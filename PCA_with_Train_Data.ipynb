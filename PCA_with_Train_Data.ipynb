{
  "nbformat": 4,
  "nbformat_minor": 5,
  "metadata": {
    "kernelspec": {
      "display_name": "Python 3",
      "language": "python",
      "name": "python3"
    },
    "language_info": {
      "codemirror_mode": {
        "name": "ipython",
        "version": 3
      },
      "file_extension": ".py",
      "mimetype": "text/x-python",
      "name": "python",
      "nbconvert_exporter": "python",
      "pygments_lexer": "ipython3",
      "version": "3.8.8"
    },
    "colab": {
      "name": "PCA with Train Data.ipynb",
      "provenance": [],
      "collapsed_sections": [],
      "include_colab_link": true
    }
  },
  "cells": [
    {
      "cell_type": "markdown",
      "metadata": {
        "id": "view-in-github",
        "colab_type": "text"
      },
      "source": [
        "<a href=\"https://colab.research.google.com/github/sankett-tericsoft/First-Project/blob/main/PCA_with_Train_Data.ipynb\" target=\"_parent\"><img src=\"https://colab.research.google.com/assets/colab-badge.svg\" alt=\"Open In Colab\"/></a>"
      ]
    },
    {
      "cell_type": "code",
      "metadata": {
        "id": "ea8d8d99"
      },
      "source": [
        "import numpy as np\n",
        "import pandas as pd\n",
        "import matplotlib.pyplot as plt\n",
        "import seaborn as sns\n",
        "\n",
        "from sklearn.model_selection import train_test_split\n",
        "from sklearn.preprocessing import StandardScaler\n",
        "from sklearn.impute import SimpleImputer\n",
        "from sklearn.preprocessing import OneHotEncoder\n",
        "from sklearn.linear_model import LogisticRegression\n",
        "\n",
        "from sklearn.metrics import classification_report, roc_auc_score, confusion_matrix, accuracy_score\n"
      ],
      "id": "ea8d8d99",
      "execution_count": 1,
      "outputs": []
    },
    {
      "cell_type": "code",
      "metadata": {
        "id": "BwEb8-Rs_5Yy"
      },
      "source": [
        "from tensorflow.keras.layers import BatchNormalization"
      ],
      "id": "BwEb8-Rs_5Yy",
      "execution_count": 77,
      "outputs": []
    },
    {
      "cell_type": "code",
      "metadata": {
        "id": "4fbc018f"
      },
      "source": [
        "import warnings\n",
        "warnings.filterwarnings('ignore')"
      ],
      "id": "4fbc018f",
      "execution_count": 2,
      "outputs": []
    },
    {
      "cell_type": "code",
      "metadata": {
        "colab": {
          "base_uri": "https://localhost:8080/"
        },
        "id": "sCXEjeo59d7C",
        "outputId": "dd4b362f-88f9-47c1-8a55-b443e27dba11"
      },
      "source": [
        "from google.colab import drive\n",
        "drive.mount('/content/drive')"
      ],
      "id": "sCXEjeo59d7C",
      "execution_count": 3,
      "outputs": [
        {
          "output_type": "stream",
          "name": "stdout",
          "text": [
            "Mounted at /content/drive\n"
          ]
        }
      ]
    },
    {
      "cell_type": "code",
      "metadata": {
        "colab": {
          "base_uri": "https://localhost:8080/"
        },
        "id": "7kMfO23k9hbV",
        "outputId": "3e8dd5df-6bf9-4896-a43f-2e994dfc5cbc"
      },
      "source": [
        "% cd /content/drive/MyDrive/Tericsoft"
      ],
      "id": "7kMfO23k9hbV",
      "execution_count": 4,
      "outputs": [
        {
          "output_type": "stream",
          "name": "stdout",
          "text": [
            "/content/drive/MyDrive/Tericsoft\n"
          ]
        }
      ]
    },
    {
      "cell_type": "markdown",
      "metadata": {
        "id": "53df5ae2"
      },
      "source": [
        "## Reading the Data"
      ],
      "id": "53df5ae2"
    },
    {
      "cell_type": "code",
      "metadata": {
        "id": "95306daf"
      },
      "source": [
        "# reading the file\n",
        "application_train = pd.read_csv('application_train.csv')\n",
        "\n",
        "# application_test = pd.read_csv('application_test.csv')\n"
      ],
      "id": "95306daf",
      "execution_count": 5,
      "outputs": []
    },
    {
      "cell_type": "code",
      "metadata": {
        "colab": {
          "base_uri": "https://localhost:8080/",
          "height": 325
        },
        "id": "79ba575e",
        "outputId": "e09d6f4a-7764-43fb-9ebb-79e3f3a6c284"
      },
      "source": [
        "# printing the first 5 entries of df\n",
        "application_train.head()"
      ],
      "id": "79ba575e",
      "execution_count": 6,
      "outputs": [
        {
          "output_type": "execute_result",
          "data": {
            "text/html": [
              "<div>\n",
              "<style scoped>\n",
              "    .dataframe tbody tr th:only-of-type {\n",
              "        vertical-align: middle;\n",
              "    }\n",
              "\n",
              "    .dataframe tbody tr th {\n",
              "        vertical-align: top;\n",
              "    }\n",
              "\n",
              "    .dataframe thead th {\n",
              "        text-align: right;\n",
              "    }\n",
              "</style>\n",
              "<table border=\"1\" class=\"dataframe\">\n",
              "  <thead>\n",
              "    <tr style=\"text-align: right;\">\n",
              "      <th></th>\n",
              "      <th>SK_ID_CURR</th>\n",
              "      <th>TARGET</th>\n",
              "      <th>NAME_CONTRACT_TYPE</th>\n",
              "      <th>CODE_GENDER</th>\n",
              "      <th>FLAG_OWN_CAR</th>\n",
              "      <th>FLAG_OWN_REALTY</th>\n",
              "      <th>CNT_CHILDREN</th>\n",
              "      <th>AMT_INCOME_TOTAL</th>\n",
              "      <th>AMT_CREDIT</th>\n",
              "      <th>AMT_ANNUITY</th>\n",
              "      <th>AMT_GOODS_PRICE</th>\n",
              "      <th>NAME_TYPE_SUITE</th>\n",
              "      <th>NAME_INCOME_TYPE</th>\n",
              "      <th>NAME_EDUCATION_TYPE</th>\n",
              "      <th>NAME_FAMILY_STATUS</th>\n",
              "      <th>NAME_HOUSING_TYPE</th>\n",
              "      <th>REGION_POPULATION_RELATIVE</th>\n",
              "      <th>DAYS_BIRTH</th>\n",
              "      <th>DAYS_EMPLOYED</th>\n",
              "      <th>DAYS_REGISTRATION</th>\n",
              "      <th>DAYS_ID_PUBLISH</th>\n",
              "      <th>OWN_CAR_AGE</th>\n",
              "      <th>FLAG_MOBIL</th>\n",
              "      <th>FLAG_EMP_PHONE</th>\n",
              "      <th>FLAG_WORK_PHONE</th>\n",
              "      <th>FLAG_CONT_MOBILE</th>\n",
              "      <th>FLAG_PHONE</th>\n",
              "      <th>FLAG_EMAIL</th>\n",
              "      <th>OCCUPATION_TYPE</th>\n",
              "      <th>CNT_FAM_MEMBERS</th>\n",
              "      <th>REGION_RATING_CLIENT</th>\n",
              "      <th>REGION_RATING_CLIENT_W_CITY</th>\n",
              "      <th>WEEKDAY_APPR_PROCESS_START</th>\n",
              "      <th>HOUR_APPR_PROCESS_START</th>\n",
              "      <th>REG_REGION_NOT_LIVE_REGION</th>\n",
              "      <th>REG_REGION_NOT_WORK_REGION</th>\n",
              "      <th>LIVE_REGION_NOT_WORK_REGION</th>\n",
              "      <th>REG_CITY_NOT_LIVE_CITY</th>\n",
              "      <th>REG_CITY_NOT_WORK_CITY</th>\n",
              "      <th>LIVE_CITY_NOT_WORK_CITY</th>\n",
              "      <th>...</th>\n",
              "      <th>LIVINGAPARTMENTS_MEDI</th>\n",
              "      <th>LIVINGAREA_MEDI</th>\n",
              "      <th>NONLIVINGAPARTMENTS_MEDI</th>\n",
              "      <th>NONLIVINGAREA_MEDI</th>\n",
              "      <th>FONDKAPREMONT_MODE</th>\n",
              "      <th>HOUSETYPE_MODE</th>\n",
              "      <th>TOTALAREA_MODE</th>\n",
              "      <th>WALLSMATERIAL_MODE</th>\n",
              "      <th>EMERGENCYSTATE_MODE</th>\n",
              "      <th>OBS_30_CNT_SOCIAL_CIRCLE</th>\n",
              "      <th>DEF_30_CNT_SOCIAL_CIRCLE</th>\n",
              "      <th>OBS_60_CNT_SOCIAL_CIRCLE</th>\n",
              "      <th>DEF_60_CNT_SOCIAL_CIRCLE</th>\n",
              "      <th>DAYS_LAST_PHONE_CHANGE</th>\n",
              "      <th>FLAG_DOCUMENT_2</th>\n",
              "      <th>FLAG_DOCUMENT_3</th>\n",
              "      <th>FLAG_DOCUMENT_4</th>\n",
              "      <th>FLAG_DOCUMENT_5</th>\n",
              "      <th>FLAG_DOCUMENT_6</th>\n",
              "      <th>FLAG_DOCUMENT_7</th>\n",
              "      <th>FLAG_DOCUMENT_8</th>\n",
              "      <th>FLAG_DOCUMENT_9</th>\n",
              "      <th>FLAG_DOCUMENT_10</th>\n",
              "      <th>FLAG_DOCUMENT_11</th>\n",
              "      <th>FLAG_DOCUMENT_12</th>\n",
              "      <th>FLAG_DOCUMENT_13</th>\n",
              "      <th>FLAG_DOCUMENT_14</th>\n",
              "      <th>FLAG_DOCUMENT_15</th>\n",
              "      <th>FLAG_DOCUMENT_16</th>\n",
              "      <th>FLAG_DOCUMENT_17</th>\n",
              "      <th>FLAG_DOCUMENT_18</th>\n",
              "      <th>FLAG_DOCUMENT_19</th>\n",
              "      <th>FLAG_DOCUMENT_20</th>\n",
              "      <th>FLAG_DOCUMENT_21</th>\n",
              "      <th>AMT_REQ_CREDIT_BUREAU_HOUR</th>\n",
              "      <th>AMT_REQ_CREDIT_BUREAU_DAY</th>\n",
              "      <th>AMT_REQ_CREDIT_BUREAU_WEEK</th>\n",
              "      <th>AMT_REQ_CREDIT_BUREAU_MON</th>\n",
              "      <th>AMT_REQ_CREDIT_BUREAU_QRT</th>\n",
              "      <th>AMT_REQ_CREDIT_BUREAU_YEAR</th>\n",
              "    </tr>\n",
              "  </thead>\n",
              "  <tbody>\n",
              "    <tr>\n",
              "      <th>0</th>\n",
              "      <td>100002</td>\n",
              "      <td>1</td>\n",
              "      <td>Cash loans</td>\n",
              "      <td>M</td>\n",
              "      <td>N</td>\n",
              "      <td>Y</td>\n",
              "      <td>0</td>\n",
              "      <td>202500.0</td>\n",
              "      <td>406597.5</td>\n",
              "      <td>24700.5</td>\n",
              "      <td>351000.0</td>\n",
              "      <td>Unaccompanied</td>\n",
              "      <td>Working</td>\n",
              "      <td>Secondary / secondary special</td>\n",
              "      <td>Single / not married</td>\n",
              "      <td>House / apartment</td>\n",
              "      <td>0.018801</td>\n",
              "      <td>-9461</td>\n",
              "      <td>-637</td>\n",
              "      <td>-3648.0</td>\n",
              "      <td>-2120</td>\n",
              "      <td>NaN</td>\n",
              "      <td>1</td>\n",
              "      <td>1</td>\n",
              "      <td>0</td>\n",
              "      <td>1</td>\n",
              "      <td>1</td>\n",
              "      <td>0</td>\n",
              "      <td>Laborers</td>\n",
              "      <td>1.0</td>\n",
              "      <td>2</td>\n",
              "      <td>2</td>\n",
              "      <td>WEDNESDAY</td>\n",
              "      <td>10</td>\n",
              "      <td>0</td>\n",
              "      <td>0</td>\n",
              "      <td>0</td>\n",
              "      <td>0</td>\n",
              "      <td>0</td>\n",
              "      <td>0</td>\n",
              "      <td>...</td>\n",
              "      <td>0.0205</td>\n",
              "      <td>0.0193</td>\n",
              "      <td>0.0000</td>\n",
              "      <td>0.00</td>\n",
              "      <td>reg oper account</td>\n",
              "      <td>block of flats</td>\n",
              "      <td>0.0149</td>\n",
              "      <td>Stone, brick</td>\n",
              "      <td>No</td>\n",
              "      <td>2.0</td>\n",
              "      <td>2.0</td>\n",
              "      <td>2.0</td>\n",
              "      <td>2.0</td>\n",
              "      <td>-1134.0</td>\n",
              "      <td>0</td>\n",
              "      <td>1</td>\n",
              "      <td>0</td>\n",
              "      <td>0</td>\n",
              "      <td>0</td>\n",
              "      <td>0</td>\n",
              "      <td>0</td>\n",
              "      <td>0</td>\n",
              "      <td>0</td>\n",
              "      <td>0</td>\n",
              "      <td>0</td>\n",
              "      <td>0</td>\n",
              "      <td>0</td>\n",
              "      <td>0</td>\n",
              "      <td>0</td>\n",
              "      <td>0</td>\n",
              "      <td>0</td>\n",
              "      <td>0</td>\n",
              "      <td>0</td>\n",
              "      <td>0</td>\n",
              "      <td>0.0</td>\n",
              "      <td>0.0</td>\n",
              "      <td>0.0</td>\n",
              "      <td>0.0</td>\n",
              "      <td>0.0</td>\n",
              "      <td>1.0</td>\n",
              "    </tr>\n",
              "    <tr>\n",
              "      <th>1</th>\n",
              "      <td>100003</td>\n",
              "      <td>0</td>\n",
              "      <td>Cash loans</td>\n",
              "      <td>F</td>\n",
              "      <td>N</td>\n",
              "      <td>N</td>\n",
              "      <td>0</td>\n",
              "      <td>270000.0</td>\n",
              "      <td>1293502.5</td>\n",
              "      <td>35698.5</td>\n",
              "      <td>1129500.0</td>\n",
              "      <td>Family</td>\n",
              "      <td>State servant</td>\n",
              "      <td>Higher education</td>\n",
              "      <td>Married</td>\n",
              "      <td>House / apartment</td>\n",
              "      <td>0.003541</td>\n",
              "      <td>-16765</td>\n",
              "      <td>-1188</td>\n",
              "      <td>-1186.0</td>\n",
              "      <td>-291</td>\n",
              "      <td>NaN</td>\n",
              "      <td>1</td>\n",
              "      <td>1</td>\n",
              "      <td>0</td>\n",
              "      <td>1</td>\n",
              "      <td>1</td>\n",
              "      <td>0</td>\n",
              "      <td>Core staff</td>\n",
              "      <td>2.0</td>\n",
              "      <td>1</td>\n",
              "      <td>1</td>\n",
              "      <td>MONDAY</td>\n",
              "      <td>11</td>\n",
              "      <td>0</td>\n",
              "      <td>0</td>\n",
              "      <td>0</td>\n",
              "      <td>0</td>\n",
              "      <td>0</td>\n",
              "      <td>0</td>\n",
              "      <td>...</td>\n",
              "      <td>0.0787</td>\n",
              "      <td>0.0558</td>\n",
              "      <td>0.0039</td>\n",
              "      <td>0.01</td>\n",
              "      <td>reg oper account</td>\n",
              "      <td>block of flats</td>\n",
              "      <td>0.0714</td>\n",
              "      <td>Block</td>\n",
              "      <td>No</td>\n",
              "      <td>1.0</td>\n",
              "      <td>0.0</td>\n",
              "      <td>1.0</td>\n",
              "      <td>0.0</td>\n",
              "      <td>-828.0</td>\n",
              "      <td>0</td>\n",
              "      <td>1</td>\n",
              "      <td>0</td>\n",
              "      <td>0</td>\n",
              "      <td>0</td>\n",
              "      <td>0</td>\n",
              "      <td>0</td>\n",
              "      <td>0</td>\n",
              "      <td>0</td>\n",
              "      <td>0</td>\n",
              "      <td>0</td>\n",
              "      <td>0</td>\n",
              "      <td>0</td>\n",
              "      <td>0</td>\n",
              "      <td>0</td>\n",
              "      <td>0</td>\n",
              "      <td>0</td>\n",
              "      <td>0</td>\n",
              "      <td>0</td>\n",
              "      <td>0</td>\n",
              "      <td>0.0</td>\n",
              "      <td>0.0</td>\n",
              "      <td>0.0</td>\n",
              "      <td>0.0</td>\n",
              "      <td>0.0</td>\n",
              "      <td>0.0</td>\n",
              "    </tr>\n",
              "    <tr>\n",
              "      <th>2</th>\n",
              "      <td>100004</td>\n",
              "      <td>0</td>\n",
              "      <td>Revolving loans</td>\n",
              "      <td>M</td>\n",
              "      <td>Y</td>\n",
              "      <td>Y</td>\n",
              "      <td>0</td>\n",
              "      <td>67500.0</td>\n",
              "      <td>135000.0</td>\n",
              "      <td>6750.0</td>\n",
              "      <td>135000.0</td>\n",
              "      <td>Unaccompanied</td>\n",
              "      <td>Working</td>\n",
              "      <td>Secondary / secondary special</td>\n",
              "      <td>Single / not married</td>\n",
              "      <td>House / apartment</td>\n",
              "      <td>0.010032</td>\n",
              "      <td>-19046</td>\n",
              "      <td>-225</td>\n",
              "      <td>-4260.0</td>\n",
              "      <td>-2531</td>\n",
              "      <td>26.0</td>\n",
              "      <td>1</td>\n",
              "      <td>1</td>\n",
              "      <td>1</td>\n",
              "      <td>1</td>\n",
              "      <td>1</td>\n",
              "      <td>0</td>\n",
              "      <td>Laborers</td>\n",
              "      <td>1.0</td>\n",
              "      <td>2</td>\n",
              "      <td>2</td>\n",
              "      <td>MONDAY</td>\n",
              "      <td>9</td>\n",
              "      <td>0</td>\n",
              "      <td>0</td>\n",
              "      <td>0</td>\n",
              "      <td>0</td>\n",
              "      <td>0</td>\n",
              "      <td>0</td>\n",
              "      <td>...</td>\n",
              "      <td>NaN</td>\n",
              "      <td>NaN</td>\n",
              "      <td>NaN</td>\n",
              "      <td>NaN</td>\n",
              "      <td>NaN</td>\n",
              "      <td>NaN</td>\n",
              "      <td>NaN</td>\n",
              "      <td>NaN</td>\n",
              "      <td>NaN</td>\n",
              "      <td>0.0</td>\n",
              "      <td>0.0</td>\n",
              "      <td>0.0</td>\n",
              "      <td>0.0</td>\n",
              "      <td>-815.0</td>\n",
              "      <td>0</td>\n",
              "      <td>0</td>\n",
              "      <td>0</td>\n",
              "      <td>0</td>\n",
              "      <td>0</td>\n",
              "      <td>0</td>\n",
              "      <td>0</td>\n",
              "      <td>0</td>\n",
              "      <td>0</td>\n",
              "      <td>0</td>\n",
              "      <td>0</td>\n",
              "      <td>0</td>\n",
              "      <td>0</td>\n",
              "      <td>0</td>\n",
              "      <td>0</td>\n",
              "      <td>0</td>\n",
              "      <td>0</td>\n",
              "      <td>0</td>\n",
              "      <td>0</td>\n",
              "      <td>0</td>\n",
              "      <td>0.0</td>\n",
              "      <td>0.0</td>\n",
              "      <td>0.0</td>\n",
              "      <td>0.0</td>\n",
              "      <td>0.0</td>\n",
              "      <td>0.0</td>\n",
              "    </tr>\n",
              "    <tr>\n",
              "      <th>3</th>\n",
              "      <td>100006</td>\n",
              "      <td>0</td>\n",
              "      <td>Cash loans</td>\n",
              "      <td>F</td>\n",
              "      <td>N</td>\n",
              "      <td>Y</td>\n",
              "      <td>0</td>\n",
              "      <td>135000.0</td>\n",
              "      <td>312682.5</td>\n",
              "      <td>29686.5</td>\n",
              "      <td>297000.0</td>\n",
              "      <td>Unaccompanied</td>\n",
              "      <td>Working</td>\n",
              "      <td>Secondary / secondary special</td>\n",
              "      <td>Civil marriage</td>\n",
              "      <td>House / apartment</td>\n",
              "      <td>0.008019</td>\n",
              "      <td>-19005</td>\n",
              "      <td>-3039</td>\n",
              "      <td>-9833.0</td>\n",
              "      <td>-2437</td>\n",
              "      <td>NaN</td>\n",
              "      <td>1</td>\n",
              "      <td>1</td>\n",
              "      <td>0</td>\n",
              "      <td>1</td>\n",
              "      <td>0</td>\n",
              "      <td>0</td>\n",
              "      <td>Laborers</td>\n",
              "      <td>2.0</td>\n",
              "      <td>2</td>\n",
              "      <td>2</td>\n",
              "      <td>WEDNESDAY</td>\n",
              "      <td>17</td>\n",
              "      <td>0</td>\n",
              "      <td>0</td>\n",
              "      <td>0</td>\n",
              "      <td>0</td>\n",
              "      <td>0</td>\n",
              "      <td>0</td>\n",
              "      <td>...</td>\n",
              "      <td>NaN</td>\n",
              "      <td>NaN</td>\n",
              "      <td>NaN</td>\n",
              "      <td>NaN</td>\n",
              "      <td>NaN</td>\n",
              "      <td>NaN</td>\n",
              "      <td>NaN</td>\n",
              "      <td>NaN</td>\n",
              "      <td>NaN</td>\n",
              "      <td>2.0</td>\n",
              "      <td>0.0</td>\n",
              "      <td>2.0</td>\n",
              "      <td>0.0</td>\n",
              "      <td>-617.0</td>\n",
              "      <td>0</td>\n",
              "      <td>1</td>\n",
              "      <td>0</td>\n",
              "      <td>0</td>\n",
              "      <td>0</td>\n",
              "      <td>0</td>\n",
              "      <td>0</td>\n",
              "      <td>0</td>\n",
              "      <td>0</td>\n",
              "      <td>0</td>\n",
              "      <td>0</td>\n",
              "      <td>0</td>\n",
              "      <td>0</td>\n",
              "      <td>0</td>\n",
              "      <td>0</td>\n",
              "      <td>0</td>\n",
              "      <td>0</td>\n",
              "      <td>0</td>\n",
              "      <td>0</td>\n",
              "      <td>0</td>\n",
              "      <td>NaN</td>\n",
              "      <td>NaN</td>\n",
              "      <td>NaN</td>\n",
              "      <td>NaN</td>\n",
              "      <td>NaN</td>\n",
              "      <td>NaN</td>\n",
              "    </tr>\n",
              "    <tr>\n",
              "      <th>4</th>\n",
              "      <td>100007</td>\n",
              "      <td>0</td>\n",
              "      <td>Cash loans</td>\n",
              "      <td>M</td>\n",
              "      <td>N</td>\n",
              "      <td>Y</td>\n",
              "      <td>0</td>\n",
              "      <td>121500.0</td>\n",
              "      <td>513000.0</td>\n",
              "      <td>21865.5</td>\n",
              "      <td>513000.0</td>\n",
              "      <td>Unaccompanied</td>\n",
              "      <td>Working</td>\n",
              "      <td>Secondary / secondary special</td>\n",
              "      <td>Single / not married</td>\n",
              "      <td>House / apartment</td>\n",
              "      <td>0.028663</td>\n",
              "      <td>-19932</td>\n",
              "      <td>-3038</td>\n",
              "      <td>-4311.0</td>\n",
              "      <td>-3458</td>\n",
              "      <td>NaN</td>\n",
              "      <td>1</td>\n",
              "      <td>1</td>\n",
              "      <td>0</td>\n",
              "      <td>1</td>\n",
              "      <td>0</td>\n",
              "      <td>0</td>\n",
              "      <td>Core staff</td>\n",
              "      <td>1.0</td>\n",
              "      <td>2</td>\n",
              "      <td>2</td>\n",
              "      <td>THURSDAY</td>\n",
              "      <td>11</td>\n",
              "      <td>0</td>\n",
              "      <td>0</td>\n",
              "      <td>0</td>\n",
              "      <td>0</td>\n",
              "      <td>1</td>\n",
              "      <td>1</td>\n",
              "      <td>...</td>\n",
              "      <td>NaN</td>\n",
              "      <td>NaN</td>\n",
              "      <td>NaN</td>\n",
              "      <td>NaN</td>\n",
              "      <td>NaN</td>\n",
              "      <td>NaN</td>\n",
              "      <td>NaN</td>\n",
              "      <td>NaN</td>\n",
              "      <td>NaN</td>\n",
              "      <td>0.0</td>\n",
              "      <td>0.0</td>\n",
              "      <td>0.0</td>\n",
              "      <td>0.0</td>\n",
              "      <td>-1106.0</td>\n",
              "      <td>0</td>\n",
              "      <td>0</td>\n",
              "      <td>0</td>\n",
              "      <td>0</td>\n",
              "      <td>0</td>\n",
              "      <td>0</td>\n",
              "      <td>1</td>\n",
              "      <td>0</td>\n",
              "      <td>0</td>\n",
              "      <td>0</td>\n",
              "      <td>0</td>\n",
              "      <td>0</td>\n",
              "      <td>0</td>\n",
              "      <td>0</td>\n",
              "      <td>0</td>\n",
              "      <td>0</td>\n",
              "      <td>0</td>\n",
              "      <td>0</td>\n",
              "      <td>0</td>\n",
              "      <td>0</td>\n",
              "      <td>0.0</td>\n",
              "      <td>0.0</td>\n",
              "      <td>0.0</td>\n",
              "      <td>0.0</td>\n",
              "      <td>0.0</td>\n",
              "      <td>0.0</td>\n",
              "    </tr>\n",
              "  </tbody>\n",
              "</table>\n",
              "<p>5 rows × 122 columns</p>\n",
              "</div>"
            ],
            "text/plain": [
              "   SK_ID_CURR  TARGET  ... AMT_REQ_CREDIT_BUREAU_QRT AMT_REQ_CREDIT_BUREAU_YEAR\n",
              "0      100002       1  ...                       0.0                        1.0\n",
              "1      100003       0  ...                       0.0                        0.0\n",
              "2      100004       0  ...                       0.0                        0.0\n",
              "3      100006       0  ...                       NaN                        NaN\n",
              "4      100007       0  ...                       0.0                        0.0\n",
              "\n",
              "[5 rows x 122 columns]"
            ]
          },
          "metadata": {},
          "execution_count": 6
        }
      ]
    },
    {
      "cell_type": "markdown",
      "metadata": {
        "id": "a95831d6"
      },
      "source": [
        "# The description of each column can be found in the file ‘HomeCredit_columns_description.csv’\n",
        "\n",
        "## 'Target' column has two classes where 0: Loan is repaid and 1: Load is not repaid."
      ],
      "id": "a95831d6"
    },
    {
      "cell_type": "markdown",
      "metadata": {
        "id": "24a7da91"
      },
      "source": [
        "### Checking the missing values in the application_train df"
      ],
      "id": "24a7da91"
    },
    {
      "cell_type": "code",
      "metadata": {
        "id": "9d4822b4"
      },
      "source": [
        "# removing max limit to see columns and rows of df\n",
        "pd.set_option('display.max_columns', None)\n",
        "pd.set_option('display.max_rows', None)"
      ],
      "id": "9d4822b4",
      "execution_count": 7,
      "outputs": []
    },
    {
      "cell_type": "code",
      "metadata": {
        "id": "e36db83c",
        "colab": {
          "base_uri": "https://localhost:8080/"
        },
        "outputId": "ac7376d7-1879-4960-c4e9-2ebfeba2605d"
      },
      "source": [
        "# calculating the total error values\n",
        "error = application_train[application_train['DAYS_EMPLOYED'] == 365243]\n",
        "print('The no of errors are :', len(error))\n",
        "\n",
        "(error['TARGET'].value_counts()/len(error))*100"
      ],
      "id": "e36db83c",
      "execution_count": 8,
      "outputs": [
        {
          "output_type": "stream",
          "name": "stdout",
          "text": [
            "The no of errors are : 55374\n"
          ]
        },
        {
          "output_type": "execute_result",
          "data": {
            "text/plain": [
              "0    94.600354\n",
              "1     5.399646\n",
              "Name: TARGET, dtype: float64"
            ]
          },
          "metadata": {},
          "execution_count": 8
        }
      ]
    },
    {
      "cell_type": "code",
      "metadata": {
        "id": "3dc588e6"
      },
      "source": [
        "# Replace the error values with nan\n",
        "application_train['DAYS_EMPLOYED'].replace({365243: np.nan}, inplace = True)"
      ],
      "id": "3dc588e6",
      "execution_count": 9,
      "outputs": []
    },
    {
      "cell_type": "code",
      "metadata": {
        "id": "b512ce8f",
        "colab": {
          "base_uri": "https://localhost:8080/",
          "height": 296
        },
        "outputId": "86f3d154-3856-47f9-d724-189a03fa358a"
      },
      "source": [
        "application_train.head()"
      ],
      "id": "b512ce8f",
      "execution_count": 10,
      "outputs": [
        {
          "output_type": "execute_result",
          "data": {
            "text/html": [
              "<div>\n",
              "<style scoped>\n",
              "    .dataframe tbody tr th:only-of-type {\n",
              "        vertical-align: middle;\n",
              "    }\n",
              "\n",
              "    .dataframe tbody tr th {\n",
              "        vertical-align: top;\n",
              "    }\n",
              "\n",
              "    .dataframe thead th {\n",
              "        text-align: right;\n",
              "    }\n",
              "</style>\n",
              "<table border=\"1\" class=\"dataframe\">\n",
              "  <thead>\n",
              "    <tr style=\"text-align: right;\">\n",
              "      <th></th>\n",
              "      <th>SK_ID_CURR</th>\n",
              "      <th>TARGET</th>\n",
              "      <th>NAME_CONTRACT_TYPE</th>\n",
              "      <th>CODE_GENDER</th>\n",
              "      <th>FLAG_OWN_CAR</th>\n",
              "      <th>FLAG_OWN_REALTY</th>\n",
              "      <th>CNT_CHILDREN</th>\n",
              "      <th>AMT_INCOME_TOTAL</th>\n",
              "      <th>AMT_CREDIT</th>\n",
              "      <th>AMT_ANNUITY</th>\n",
              "      <th>AMT_GOODS_PRICE</th>\n",
              "      <th>NAME_TYPE_SUITE</th>\n",
              "      <th>NAME_INCOME_TYPE</th>\n",
              "      <th>NAME_EDUCATION_TYPE</th>\n",
              "      <th>NAME_FAMILY_STATUS</th>\n",
              "      <th>NAME_HOUSING_TYPE</th>\n",
              "      <th>REGION_POPULATION_RELATIVE</th>\n",
              "      <th>DAYS_BIRTH</th>\n",
              "      <th>DAYS_EMPLOYED</th>\n",
              "      <th>DAYS_REGISTRATION</th>\n",
              "      <th>DAYS_ID_PUBLISH</th>\n",
              "      <th>OWN_CAR_AGE</th>\n",
              "      <th>FLAG_MOBIL</th>\n",
              "      <th>FLAG_EMP_PHONE</th>\n",
              "      <th>FLAG_WORK_PHONE</th>\n",
              "      <th>FLAG_CONT_MOBILE</th>\n",
              "      <th>FLAG_PHONE</th>\n",
              "      <th>FLAG_EMAIL</th>\n",
              "      <th>OCCUPATION_TYPE</th>\n",
              "      <th>CNT_FAM_MEMBERS</th>\n",
              "      <th>REGION_RATING_CLIENT</th>\n",
              "      <th>REGION_RATING_CLIENT_W_CITY</th>\n",
              "      <th>WEEKDAY_APPR_PROCESS_START</th>\n",
              "      <th>HOUR_APPR_PROCESS_START</th>\n",
              "      <th>REG_REGION_NOT_LIVE_REGION</th>\n",
              "      <th>REG_REGION_NOT_WORK_REGION</th>\n",
              "      <th>LIVE_REGION_NOT_WORK_REGION</th>\n",
              "      <th>REG_CITY_NOT_LIVE_CITY</th>\n",
              "      <th>REG_CITY_NOT_WORK_CITY</th>\n",
              "      <th>LIVE_CITY_NOT_WORK_CITY</th>\n",
              "      <th>ORGANIZATION_TYPE</th>\n",
              "      <th>EXT_SOURCE_1</th>\n",
              "      <th>EXT_SOURCE_2</th>\n",
              "      <th>EXT_SOURCE_3</th>\n",
              "      <th>APARTMENTS_AVG</th>\n",
              "      <th>BASEMENTAREA_AVG</th>\n",
              "      <th>YEARS_BEGINEXPLUATATION_AVG</th>\n",
              "      <th>YEARS_BUILD_AVG</th>\n",
              "      <th>COMMONAREA_AVG</th>\n",
              "      <th>ELEVATORS_AVG</th>\n",
              "      <th>ENTRANCES_AVG</th>\n",
              "      <th>FLOORSMAX_AVG</th>\n",
              "      <th>FLOORSMIN_AVG</th>\n",
              "      <th>LANDAREA_AVG</th>\n",
              "      <th>LIVINGAPARTMENTS_AVG</th>\n",
              "      <th>LIVINGAREA_AVG</th>\n",
              "      <th>NONLIVINGAPARTMENTS_AVG</th>\n",
              "      <th>NONLIVINGAREA_AVG</th>\n",
              "      <th>APARTMENTS_MODE</th>\n",
              "      <th>BASEMENTAREA_MODE</th>\n",
              "      <th>YEARS_BEGINEXPLUATATION_MODE</th>\n",
              "      <th>YEARS_BUILD_MODE</th>\n",
              "      <th>COMMONAREA_MODE</th>\n",
              "      <th>ELEVATORS_MODE</th>\n",
              "      <th>ENTRANCES_MODE</th>\n",
              "      <th>FLOORSMAX_MODE</th>\n",
              "      <th>FLOORSMIN_MODE</th>\n",
              "      <th>LANDAREA_MODE</th>\n",
              "      <th>LIVINGAPARTMENTS_MODE</th>\n",
              "      <th>LIVINGAREA_MODE</th>\n",
              "      <th>NONLIVINGAPARTMENTS_MODE</th>\n",
              "      <th>NONLIVINGAREA_MODE</th>\n",
              "      <th>APARTMENTS_MEDI</th>\n",
              "      <th>BASEMENTAREA_MEDI</th>\n",
              "      <th>YEARS_BEGINEXPLUATATION_MEDI</th>\n",
              "      <th>YEARS_BUILD_MEDI</th>\n",
              "      <th>COMMONAREA_MEDI</th>\n",
              "      <th>ELEVATORS_MEDI</th>\n",
              "      <th>ENTRANCES_MEDI</th>\n",
              "      <th>FLOORSMAX_MEDI</th>\n",
              "      <th>FLOORSMIN_MEDI</th>\n",
              "      <th>LANDAREA_MEDI</th>\n",
              "      <th>LIVINGAPARTMENTS_MEDI</th>\n",
              "      <th>LIVINGAREA_MEDI</th>\n",
              "      <th>NONLIVINGAPARTMENTS_MEDI</th>\n",
              "      <th>NONLIVINGAREA_MEDI</th>\n",
              "      <th>FONDKAPREMONT_MODE</th>\n",
              "      <th>HOUSETYPE_MODE</th>\n",
              "      <th>TOTALAREA_MODE</th>\n",
              "      <th>WALLSMATERIAL_MODE</th>\n",
              "      <th>EMERGENCYSTATE_MODE</th>\n",
              "      <th>OBS_30_CNT_SOCIAL_CIRCLE</th>\n",
              "      <th>DEF_30_CNT_SOCIAL_CIRCLE</th>\n",
              "      <th>OBS_60_CNT_SOCIAL_CIRCLE</th>\n",
              "      <th>DEF_60_CNT_SOCIAL_CIRCLE</th>\n",
              "      <th>DAYS_LAST_PHONE_CHANGE</th>\n",
              "      <th>FLAG_DOCUMENT_2</th>\n",
              "      <th>FLAG_DOCUMENT_3</th>\n",
              "      <th>FLAG_DOCUMENT_4</th>\n",
              "      <th>FLAG_DOCUMENT_5</th>\n",
              "      <th>FLAG_DOCUMENT_6</th>\n",
              "      <th>FLAG_DOCUMENT_7</th>\n",
              "      <th>FLAG_DOCUMENT_8</th>\n",
              "      <th>FLAG_DOCUMENT_9</th>\n",
              "      <th>FLAG_DOCUMENT_10</th>\n",
              "      <th>FLAG_DOCUMENT_11</th>\n",
              "      <th>FLAG_DOCUMENT_12</th>\n",
              "      <th>FLAG_DOCUMENT_13</th>\n",
              "      <th>FLAG_DOCUMENT_14</th>\n",
              "      <th>FLAG_DOCUMENT_15</th>\n",
              "      <th>FLAG_DOCUMENT_16</th>\n",
              "      <th>FLAG_DOCUMENT_17</th>\n",
              "      <th>FLAG_DOCUMENT_18</th>\n",
              "      <th>FLAG_DOCUMENT_19</th>\n",
              "      <th>FLAG_DOCUMENT_20</th>\n",
              "      <th>FLAG_DOCUMENT_21</th>\n",
              "      <th>AMT_REQ_CREDIT_BUREAU_HOUR</th>\n",
              "      <th>AMT_REQ_CREDIT_BUREAU_DAY</th>\n",
              "      <th>AMT_REQ_CREDIT_BUREAU_WEEK</th>\n",
              "      <th>AMT_REQ_CREDIT_BUREAU_MON</th>\n",
              "      <th>AMT_REQ_CREDIT_BUREAU_QRT</th>\n",
              "      <th>AMT_REQ_CREDIT_BUREAU_YEAR</th>\n",
              "    </tr>\n",
              "  </thead>\n",
              "  <tbody>\n",
              "    <tr>\n",
              "      <th>0</th>\n",
              "      <td>100002</td>\n",
              "      <td>1</td>\n",
              "      <td>Cash loans</td>\n",
              "      <td>M</td>\n",
              "      <td>N</td>\n",
              "      <td>Y</td>\n",
              "      <td>0</td>\n",
              "      <td>202500.0</td>\n",
              "      <td>406597.5</td>\n",
              "      <td>24700.5</td>\n",
              "      <td>351000.0</td>\n",
              "      <td>Unaccompanied</td>\n",
              "      <td>Working</td>\n",
              "      <td>Secondary / secondary special</td>\n",
              "      <td>Single / not married</td>\n",
              "      <td>House / apartment</td>\n",
              "      <td>0.018801</td>\n",
              "      <td>-9461</td>\n",
              "      <td>-637.0</td>\n",
              "      <td>-3648.0</td>\n",
              "      <td>-2120</td>\n",
              "      <td>NaN</td>\n",
              "      <td>1</td>\n",
              "      <td>1</td>\n",
              "      <td>0</td>\n",
              "      <td>1</td>\n",
              "      <td>1</td>\n",
              "      <td>0</td>\n",
              "      <td>Laborers</td>\n",
              "      <td>1.0</td>\n",
              "      <td>2</td>\n",
              "      <td>2</td>\n",
              "      <td>WEDNESDAY</td>\n",
              "      <td>10</td>\n",
              "      <td>0</td>\n",
              "      <td>0</td>\n",
              "      <td>0</td>\n",
              "      <td>0</td>\n",
              "      <td>0</td>\n",
              "      <td>0</td>\n",
              "      <td>Business Entity Type 3</td>\n",
              "      <td>0.083037</td>\n",
              "      <td>0.262949</td>\n",
              "      <td>0.139376</td>\n",
              "      <td>0.0247</td>\n",
              "      <td>0.0369</td>\n",
              "      <td>0.9722</td>\n",
              "      <td>0.6192</td>\n",
              "      <td>0.0143</td>\n",
              "      <td>0.00</td>\n",
              "      <td>0.0690</td>\n",
              "      <td>0.0833</td>\n",
              "      <td>0.1250</td>\n",
              "      <td>0.0369</td>\n",
              "      <td>0.0202</td>\n",
              "      <td>0.0190</td>\n",
              "      <td>0.0000</td>\n",
              "      <td>0.0000</td>\n",
              "      <td>0.0252</td>\n",
              "      <td>0.0383</td>\n",
              "      <td>0.9722</td>\n",
              "      <td>0.6341</td>\n",
              "      <td>0.0144</td>\n",
              "      <td>0.0000</td>\n",
              "      <td>0.0690</td>\n",
              "      <td>0.0833</td>\n",
              "      <td>0.1250</td>\n",
              "      <td>0.0377</td>\n",
              "      <td>0.022</td>\n",
              "      <td>0.0198</td>\n",
              "      <td>0.0</td>\n",
              "      <td>0.0</td>\n",
              "      <td>0.0250</td>\n",
              "      <td>0.0369</td>\n",
              "      <td>0.9722</td>\n",
              "      <td>0.6243</td>\n",
              "      <td>0.0144</td>\n",
              "      <td>0.00</td>\n",
              "      <td>0.0690</td>\n",
              "      <td>0.0833</td>\n",
              "      <td>0.1250</td>\n",
              "      <td>0.0375</td>\n",
              "      <td>0.0205</td>\n",
              "      <td>0.0193</td>\n",
              "      <td>0.0000</td>\n",
              "      <td>0.00</td>\n",
              "      <td>reg oper account</td>\n",
              "      <td>block of flats</td>\n",
              "      <td>0.0149</td>\n",
              "      <td>Stone, brick</td>\n",
              "      <td>No</td>\n",
              "      <td>2.0</td>\n",
              "      <td>2.0</td>\n",
              "      <td>2.0</td>\n",
              "      <td>2.0</td>\n",
              "      <td>-1134.0</td>\n",
              "      <td>0</td>\n",
              "      <td>1</td>\n",
              "      <td>0</td>\n",
              "      <td>0</td>\n",
              "      <td>0</td>\n",
              "      <td>0</td>\n",
              "      <td>0</td>\n",
              "      <td>0</td>\n",
              "      <td>0</td>\n",
              "      <td>0</td>\n",
              "      <td>0</td>\n",
              "      <td>0</td>\n",
              "      <td>0</td>\n",
              "      <td>0</td>\n",
              "      <td>0</td>\n",
              "      <td>0</td>\n",
              "      <td>0</td>\n",
              "      <td>0</td>\n",
              "      <td>0</td>\n",
              "      <td>0</td>\n",
              "      <td>0.0</td>\n",
              "      <td>0.0</td>\n",
              "      <td>0.0</td>\n",
              "      <td>0.0</td>\n",
              "      <td>0.0</td>\n",
              "      <td>1.0</td>\n",
              "    </tr>\n",
              "    <tr>\n",
              "      <th>1</th>\n",
              "      <td>100003</td>\n",
              "      <td>0</td>\n",
              "      <td>Cash loans</td>\n",
              "      <td>F</td>\n",
              "      <td>N</td>\n",
              "      <td>N</td>\n",
              "      <td>0</td>\n",
              "      <td>270000.0</td>\n",
              "      <td>1293502.5</td>\n",
              "      <td>35698.5</td>\n",
              "      <td>1129500.0</td>\n",
              "      <td>Family</td>\n",
              "      <td>State servant</td>\n",
              "      <td>Higher education</td>\n",
              "      <td>Married</td>\n",
              "      <td>House / apartment</td>\n",
              "      <td>0.003541</td>\n",
              "      <td>-16765</td>\n",
              "      <td>-1188.0</td>\n",
              "      <td>-1186.0</td>\n",
              "      <td>-291</td>\n",
              "      <td>NaN</td>\n",
              "      <td>1</td>\n",
              "      <td>1</td>\n",
              "      <td>0</td>\n",
              "      <td>1</td>\n",
              "      <td>1</td>\n",
              "      <td>0</td>\n",
              "      <td>Core staff</td>\n",
              "      <td>2.0</td>\n",
              "      <td>1</td>\n",
              "      <td>1</td>\n",
              "      <td>MONDAY</td>\n",
              "      <td>11</td>\n",
              "      <td>0</td>\n",
              "      <td>0</td>\n",
              "      <td>0</td>\n",
              "      <td>0</td>\n",
              "      <td>0</td>\n",
              "      <td>0</td>\n",
              "      <td>School</td>\n",
              "      <td>0.311267</td>\n",
              "      <td>0.622246</td>\n",
              "      <td>NaN</td>\n",
              "      <td>0.0959</td>\n",
              "      <td>0.0529</td>\n",
              "      <td>0.9851</td>\n",
              "      <td>0.7960</td>\n",
              "      <td>0.0605</td>\n",
              "      <td>0.08</td>\n",
              "      <td>0.0345</td>\n",
              "      <td>0.2917</td>\n",
              "      <td>0.3333</td>\n",
              "      <td>0.0130</td>\n",
              "      <td>0.0773</td>\n",
              "      <td>0.0549</td>\n",
              "      <td>0.0039</td>\n",
              "      <td>0.0098</td>\n",
              "      <td>0.0924</td>\n",
              "      <td>0.0538</td>\n",
              "      <td>0.9851</td>\n",
              "      <td>0.8040</td>\n",
              "      <td>0.0497</td>\n",
              "      <td>0.0806</td>\n",
              "      <td>0.0345</td>\n",
              "      <td>0.2917</td>\n",
              "      <td>0.3333</td>\n",
              "      <td>0.0128</td>\n",
              "      <td>0.079</td>\n",
              "      <td>0.0554</td>\n",
              "      <td>0.0</td>\n",
              "      <td>0.0</td>\n",
              "      <td>0.0968</td>\n",
              "      <td>0.0529</td>\n",
              "      <td>0.9851</td>\n",
              "      <td>0.7987</td>\n",
              "      <td>0.0608</td>\n",
              "      <td>0.08</td>\n",
              "      <td>0.0345</td>\n",
              "      <td>0.2917</td>\n",
              "      <td>0.3333</td>\n",
              "      <td>0.0132</td>\n",
              "      <td>0.0787</td>\n",
              "      <td>0.0558</td>\n",
              "      <td>0.0039</td>\n",
              "      <td>0.01</td>\n",
              "      <td>reg oper account</td>\n",
              "      <td>block of flats</td>\n",
              "      <td>0.0714</td>\n",
              "      <td>Block</td>\n",
              "      <td>No</td>\n",
              "      <td>1.0</td>\n",
              "      <td>0.0</td>\n",
              "      <td>1.0</td>\n",
              "      <td>0.0</td>\n",
              "      <td>-828.0</td>\n",
              "      <td>0</td>\n",
              "      <td>1</td>\n",
              "      <td>0</td>\n",
              "      <td>0</td>\n",
              "      <td>0</td>\n",
              "      <td>0</td>\n",
              "      <td>0</td>\n",
              "      <td>0</td>\n",
              "      <td>0</td>\n",
              "      <td>0</td>\n",
              "      <td>0</td>\n",
              "      <td>0</td>\n",
              "      <td>0</td>\n",
              "      <td>0</td>\n",
              "      <td>0</td>\n",
              "      <td>0</td>\n",
              "      <td>0</td>\n",
              "      <td>0</td>\n",
              "      <td>0</td>\n",
              "      <td>0</td>\n",
              "      <td>0.0</td>\n",
              "      <td>0.0</td>\n",
              "      <td>0.0</td>\n",
              "      <td>0.0</td>\n",
              "      <td>0.0</td>\n",
              "      <td>0.0</td>\n",
              "    </tr>\n",
              "    <tr>\n",
              "      <th>2</th>\n",
              "      <td>100004</td>\n",
              "      <td>0</td>\n",
              "      <td>Revolving loans</td>\n",
              "      <td>M</td>\n",
              "      <td>Y</td>\n",
              "      <td>Y</td>\n",
              "      <td>0</td>\n",
              "      <td>67500.0</td>\n",
              "      <td>135000.0</td>\n",
              "      <td>6750.0</td>\n",
              "      <td>135000.0</td>\n",
              "      <td>Unaccompanied</td>\n",
              "      <td>Working</td>\n",
              "      <td>Secondary / secondary special</td>\n",
              "      <td>Single / not married</td>\n",
              "      <td>House / apartment</td>\n",
              "      <td>0.010032</td>\n",
              "      <td>-19046</td>\n",
              "      <td>-225.0</td>\n",
              "      <td>-4260.0</td>\n",
              "      <td>-2531</td>\n",
              "      <td>26.0</td>\n",
              "      <td>1</td>\n",
              "      <td>1</td>\n",
              "      <td>1</td>\n",
              "      <td>1</td>\n",
              "      <td>1</td>\n",
              "      <td>0</td>\n",
              "      <td>Laborers</td>\n",
              "      <td>1.0</td>\n",
              "      <td>2</td>\n",
              "      <td>2</td>\n",
              "      <td>MONDAY</td>\n",
              "      <td>9</td>\n",
              "      <td>0</td>\n",
              "      <td>0</td>\n",
              "      <td>0</td>\n",
              "      <td>0</td>\n",
              "      <td>0</td>\n",
              "      <td>0</td>\n",
              "      <td>Government</td>\n",
              "      <td>NaN</td>\n",
              "      <td>0.555912</td>\n",
              "      <td>0.729567</td>\n",
              "      <td>NaN</td>\n",
              "      <td>NaN</td>\n",
              "      <td>NaN</td>\n",
              "      <td>NaN</td>\n",
              "      <td>NaN</td>\n",
              "      <td>NaN</td>\n",
              "      <td>NaN</td>\n",
              "      <td>NaN</td>\n",
              "      <td>NaN</td>\n",
              "      <td>NaN</td>\n",
              "      <td>NaN</td>\n",
              "      <td>NaN</td>\n",
              "      <td>NaN</td>\n",
              "      <td>NaN</td>\n",
              "      <td>NaN</td>\n",
              "      <td>NaN</td>\n",
              "      <td>NaN</td>\n",
              "      <td>NaN</td>\n",
              "      <td>NaN</td>\n",
              "      <td>NaN</td>\n",
              "      <td>NaN</td>\n",
              "      <td>NaN</td>\n",
              "      <td>NaN</td>\n",
              "      <td>NaN</td>\n",
              "      <td>NaN</td>\n",
              "      <td>NaN</td>\n",
              "      <td>NaN</td>\n",
              "      <td>NaN</td>\n",
              "      <td>NaN</td>\n",
              "      <td>NaN</td>\n",
              "      <td>NaN</td>\n",
              "      <td>NaN</td>\n",
              "      <td>NaN</td>\n",
              "      <td>NaN</td>\n",
              "      <td>NaN</td>\n",
              "      <td>NaN</td>\n",
              "      <td>NaN</td>\n",
              "      <td>NaN</td>\n",
              "      <td>NaN</td>\n",
              "      <td>NaN</td>\n",
              "      <td>NaN</td>\n",
              "      <td>NaN</td>\n",
              "      <td>NaN</td>\n",
              "      <td>NaN</td>\n",
              "      <td>NaN</td>\n",
              "      <td>NaN</td>\n",
              "      <td>NaN</td>\n",
              "      <td>0.0</td>\n",
              "      <td>0.0</td>\n",
              "      <td>0.0</td>\n",
              "      <td>0.0</td>\n",
              "      <td>-815.0</td>\n",
              "      <td>0</td>\n",
              "      <td>0</td>\n",
              "      <td>0</td>\n",
              "      <td>0</td>\n",
              "      <td>0</td>\n",
              "      <td>0</td>\n",
              "      <td>0</td>\n",
              "      <td>0</td>\n",
              "      <td>0</td>\n",
              "      <td>0</td>\n",
              "      <td>0</td>\n",
              "      <td>0</td>\n",
              "      <td>0</td>\n",
              "      <td>0</td>\n",
              "      <td>0</td>\n",
              "      <td>0</td>\n",
              "      <td>0</td>\n",
              "      <td>0</td>\n",
              "      <td>0</td>\n",
              "      <td>0</td>\n",
              "      <td>0.0</td>\n",
              "      <td>0.0</td>\n",
              "      <td>0.0</td>\n",
              "      <td>0.0</td>\n",
              "      <td>0.0</td>\n",
              "      <td>0.0</td>\n",
              "    </tr>\n",
              "    <tr>\n",
              "      <th>3</th>\n",
              "      <td>100006</td>\n",
              "      <td>0</td>\n",
              "      <td>Cash loans</td>\n",
              "      <td>F</td>\n",
              "      <td>N</td>\n",
              "      <td>Y</td>\n",
              "      <td>0</td>\n",
              "      <td>135000.0</td>\n",
              "      <td>312682.5</td>\n",
              "      <td>29686.5</td>\n",
              "      <td>297000.0</td>\n",
              "      <td>Unaccompanied</td>\n",
              "      <td>Working</td>\n",
              "      <td>Secondary / secondary special</td>\n",
              "      <td>Civil marriage</td>\n",
              "      <td>House / apartment</td>\n",
              "      <td>0.008019</td>\n",
              "      <td>-19005</td>\n",
              "      <td>-3039.0</td>\n",
              "      <td>-9833.0</td>\n",
              "      <td>-2437</td>\n",
              "      <td>NaN</td>\n",
              "      <td>1</td>\n",
              "      <td>1</td>\n",
              "      <td>0</td>\n",
              "      <td>1</td>\n",
              "      <td>0</td>\n",
              "      <td>0</td>\n",
              "      <td>Laborers</td>\n",
              "      <td>2.0</td>\n",
              "      <td>2</td>\n",
              "      <td>2</td>\n",
              "      <td>WEDNESDAY</td>\n",
              "      <td>17</td>\n",
              "      <td>0</td>\n",
              "      <td>0</td>\n",
              "      <td>0</td>\n",
              "      <td>0</td>\n",
              "      <td>0</td>\n",
              "      <td>0</td>\n",
              "      <td>Business Entity Type 3</td>\n",
              "      <td>NaN</td>\n",
              "      <td>0.650442</td>\n",
              "      <td>NaN</td>\n",
              "      <td>NaN</td>\n",
              "      <td>NaN</td>\n",
              "      <td>NaN</td>\n",
              "      <td>NaN</td>\n",
              "      <td>NaN</td>\n",
              "      <td>NaN</td>\n",
              "      <td>NaN</td>\n",
              "      <td>NaN</td>\n",
              "      <td>NaN</td>\n",
              "      <td>NaN</td>\n",
              "      <td>NaN</td>\n",
              "      <td>NaN</td>\n",
              "      <td>NaN</td>\n",
              "      <td>NaN</td>\n",
              "      <td>NaN</td>\n",
              "      <td>NaN</td>\n",
              "      <td>NaN</td>\n",
              "      <td>NaN</td>\n",
              "      <td>NaN</td>\n",
              "      <td>NaN</td>\n",
              "      <td>NaN</td>\n",
              "      <td>NaN</td>\n",
              "      <td>NaN</td>\n",
              "      <td>NaN</td>\n",
              "      <td>NaN</td>\n",
              "      <td>NaN</td>\n",
              "      <td>NaN</td>\n",
              "      <td>NaN</td>\n",
              "      <td>NaN</td>\n",
              "      <td>NaN</td>\n",
              "      <td>NaN</td>\n",
              "      <td>NaN</td>\n",
              "      <td>NaN</td>\n",
              "      <td>NaN</td>\n",
              "      <td>NaN</td>\n",
              "      <td>NaN</td>\n",
              "      <td>NaN</td>\n",
              "      <td>NaN</td>\n",
              "      <td>NaN</td>\n",
              "      <td>NaN</td>\n",
              "      <td>NaN</td>\n",
              "      <td>NaN</td>\n",
              "      <td>NaN</td>\n",
              "      <td>NaN</td>\n",
              "      <td>NaN</td>\n",
              "      <td>NaN</td>\n",
              "      <td>NaN</td>\n",
              "      <td>2.0</td>\n",
              "      <td>0.0</td>\n",
              "      <td>2.0</td>\n",
              "      <td>0.0</td>\n",
              "      <td>-617.0</td>\n",
              "      <td>0</td>\n",
              "      <td>1</td>\n",
              "      <td>0</td>\n",
              "      <td>0</td>\n",
              "      <td>0</td>\n",
              "      <td>0</td>\n",
              "      <td>0</td>\n",
              "      <td>0</td>\n",
              "      <td>0</td>\n",
              "      <td>0</td>\n",
              "      <td>0</td>\n",
              "      <td>0</td>\n",
              "      <td>0</td>\n",
              "      <td>0</td>\n",
              "      <td>0</td>\n",
              "      <td>0</td>\n",
              "      <td>0</td>\n",
              "      <td>0</td>\n",
              "      <td>0</td>\n",
              "      <td>0</td>\n",
              "      <td>NaN</td>\n",
              "      <td>NaN</td>\n",
              "      <td>NaN</td>\n",
              "      <td>NaN</td>\n",
              "      <td>NaN</td>\n",
              "      <td>NaN</td>\n",
              "    </tr>\n",
              "    <tr>\n",
              "      <th>4</th>\n",
              "      <td>100007</td>\n",
              "      <td>0</td>\n",
              "      <td>Cash loans</td>\n",
              "      <td>M</td>\n",
              "      <td>N</td>\n",
              "      <td>Y</td>\n",
              "      <td>0</td>\n",
              "      <td>121500.0</td>\n",
              "      <td>513000.0</td>\n",
              "      <td>21865.5</td>\n",
              "      <td>513000.0</td>\n",
              "      <td>Unaccompanied</td>\n",
              "      <td>Working</td>\n",
              "      <td>Secondary / secondary special</td>\n",
              "      <td>Single / not married</td>\n",
              "      <td>House / apartment</td>\n",
              "      <td>0.028663</td>\n",
              "      <td>-19932</td>\n",
              "      <td>-3038.0</td>\n",
              "      <td>-4311.0</td>\n",
              "      <td>-3458</td>\n",
              "      <td>NaN</td>\n",
              "      <td>1</td>\n",
              "      <td>1</td>\n",
              "      <td>0</td>\n",
              "      <td>1</td>\n",
              "      <td>0</td>\n",
              "      <td>0</td>\n",
              "      <td>Core staff</td>\n",
              "      <td>1.0</td>\n",
              "      <td>2</td>\n",
              "      <td>2</td>\n",
              "      <td>THURSDAY</td>\n",
              "      <td>11</td>\n",
              "      <td>0</td>\n",
              "      <td>0</td>\n",
              "      <td>0</td>\n",
              "      <td>0</td>\n",
              "      <td>1</td>\n",
              "      <td>1</td>\n",
              "      <td>Religion</td>\n",
              "      <td>NaN</td>\n",
              "      <td>0.322738</td>\n",
              "      <td>NaN</td>\n",
              "      <td>NaN</td>\n",
              "      <td>NaN</td>\n",
              "      <td>NaN</td>\n",
              "      <td>NaN</td>\n",
              "      <td>NaN</td>\n",
              "      <td>NaN</td>\n",
              "      <td>NaN</td>\n",
              "      <td>NaN</td>\n",
              "      <td>NaN</td>\n",
              "      <td>NaN</td>\n",
              "      <td>NaN</td>\n",
              "      <td>NaN</td>\n",
              "      <td>NaN</td>\n",
              "      <td>NaN</td>\n",
              "      <td>NaN</td>\n",
              "      <td>NaN</td>\n",
              "      <td>NaN</td>\n",
              "      <td>NaN</td>\n",
              "      <td>NaN</td>\n",
              "      <td>NaN</td>\n",
              "      <td>NaN</td>\n",
              "      <td>NaN</td>\n",
              "      <td>NaN</td>\n",
              "      <td>NaN</td>\n",
              "      <td>NaN</td>\n",
              "      <td>NaN</td>\n",
              "      <td>NaN</td>\n",
              "      <td>NaN</td>\n",
              "      <td>NaN</td>\n",
              "      <td>NaN</td>\n",
              "      <td>NaN</td>\n",
              "      <td>NaN</td>\n",
              "      <td>NaN</td>\n",
              "      <td>NaN</td>\n",
              "      <td>NaN</td>\n",
              "      <td>NaN</td>\n",
              "      <td>NaN</td>\n",
              "      <td>NaN</td>\n",
              "      <td>NaN</td>\n",
              "      <td>NaN</td>\n",
              "      <td>NaN</td>\n",
              "      <td>NaN</td>\n",
              "      <td>NaN</td>\n",
              "      <td>NaN</td>\n",
              "      <td>NaN</td>\n",
              "      <td>NaN</td>\n",
              "      <td>NaN</td>\n",
              "      <td>0.0</td>\n",
              "      <td>0.0</td>\n",
              "      <td>0.0</td>\n",
              "      <td>0.0</td>\n",
              "      <td>-1106.0</td>\n",
              "      <td>0</td>\n",
              "      <td>0</td>\n",
              "      <td>0</td>\n",
              "      <td>0</td>\n",
              "      <td>0</td>\n",
              "      <td>0</td>\n",
              "      <td>1</td>\n",
              "      <td>0</td>\n",
              "      <td>0</td>\n",
              "      <td>0</td>\n",
              "      <td>0</td>\n",
              "      <td>0</td>\n",
              "      <td>0</td>\n",
              "      <td>0</td>\n",
              "      <td>0</td>\n",
              "      <td>0</td>\n",
              "      <td>0</td>\n",
              "      <td>0</td>\n",
              "      <td>0</td>\n",
              "      <td>0</td>\n",
              "      <td>0.0</td>\n",
              "      <td>0.0</td>\n",
              "      <td>0.0</td>\n",
              "      <td>0.0</td>\n",
              "      <td>0.0</td>\n",
              "      <td>0.0</td>\n",
              "    </tr>\n",
              "  </tbody>\n",
              "</table>\n",
              "</div>"
            ],
            "text/plain": [
              "   SK_ID_CURR  TARGET NAME_CONTRACT_TYPE CODE_GENDER FLAG_OWN_CAR  \\\n",
              "0      100002       1         Cash loans           M            N   \n",
              "1      100003       0         Cash loans           F            N   \n",
              "2      100004       0    Revolving loans           M            Y   \n",
              "3      100006       0         Cash loans           F            N   \n",
              "4      100007       0         Cash loans           M            N   \n",
              "\n",
              "  FLAG_OWN_REALTY  CNT_CHILDREN  AMT_INCOME_TOTAL  AMT_CREDIT  AMT_ANNUITY  \\\n",
              "0               Y             0          202500.0    406597.5      24700.5   \n",
              "1               N             0          270000.0   1293502.5      35698.5   \n",
              "2               Y             0           67500.0    135000.0       6750.0   \n",
              "3               Y             0          135000.0    312682.5      29686.5   \n",
              "4               Y             0          121500.0    513000.0      21865.5   \n",
              "\n",
              "   AMT_GOODS_PRICE NAME_TYPE_SUITE NAME_INCOME_TYPE  \\\n",
              "0         351000.0   Unaccompanied          Working   \n",
              "1        1129500.0          Family    State servant   \n",
              "2         135000.0   Unaccompanied          Working   \n",
              "3         297000.0   Unaccompanied          Working   \n",
              "4         513000.0   Unaccompanied          Working   \n",
              "\n",
              "             NAME_EDUCATION_TYPE    NAME_FAMILY_STATUS  NAME_HOUSING_TYPE  \\\n",
              "0  Secondary / secondary special  Single / not married  House / apartment   \n",
              "1               Higher education               Married  House / apartment   \n",
              "2  Secondary / secondary special  Single / not married  House / apartment   \n",
              "3  Secondary / secondary special        Civil marriage  House / apartment   \n",
              "4  Secondary / secondary special  Single / not married  House / apartment   \n",
              "\n",
              "   REGION_POPULATION_RELATIVE  DAYS_BIRTH  DAYS_EMPLOYED  DAYS_REGISTRATION  \\\n",
              "0                    0.018801       -9461         -637.0            -3648.0   \n",
              "1                    0.003541      -16765        -1188.0            -1186.0   \n",
              "2                    0.010032      -19046         -225.0            -4260.0   \n",
              "3                    0.008019      -19005        -3039.0            -9833.0   \n",
              "4                    0.028663      -19932        -3038.0            -4311.0   \n",
              "\n",
              "   DAYS_ID_PUBLISH  OWN_CAR_AGE  FLAG_MOBIL  FLAG_EMP_PHONE  FLAG_WORK_PHONE  \\\n",
              "0            -2120          NaN           1               1                0   \n",
              "1             -291          NaN           1               1                0   \n",
              "2            -2531         26.0           1               1                1   \n",
              "3            -2437          NaN           1               1                0   \n",
              "4            -3458          NaN           1               1                0   \n",
              "\n",
              "   FLAG_CONT_MOBILE  FLAG_PHONE  FLAG_EMAIL OCCUPATION_TYPE  CNT_FAM_MEMBERS  \\\n",
              "0                 1           1           0        Laborers              1.0   \n",
              "1                 1           1           0      Core staff              2.0   \n",
              "2                 1           1           0        Laborers              1.0   \n",
              "3                 1           0           0        Laborers              2.0   \n",
              "4                 1           0           0      Core staff              1.0   \n",
              "\n",
              "   REGION_RATING_CLIENT  REGION_RATING_CLIENT_W_CITY  \\\n",
              "0                     2                            2   \n",
              "1                     1                            1   \n",
              "2                     2                            2   \n",
              "3                     2                            2   \n",
              "4                     2                            2   \n",
              "\n",
              "  WEEKDAY_APPR_PROCESS_START  HOUR_APPR_PROCESS_START  \\\n",
              "0                  WEDNESDAY                       10   \n",
              "1                     MONDAY                       11   \n",
              "2                     MONDAY                        9   \n",
              "3                  WEDNESDAY                       17   \n",
              "4                   THURSDAY                       11   \n",
              "\n",
              "   REG_REGION_NOT_LIVE_REGION  REG_REGION_NOT_WORK_REGION  \\\n",
              "0                           0                           0   \n",
              "1                           0                           0   \n",
              "2                           0                           0   \n",
              "3                           0                           0   \n",
              "4                           0                           0   \n",
              "\n",
              "   LIVE_REGION_NOT_WORK_REGION  REG_CITY_NOT_LIVE_CITY  \\\n",
              "0                            0                       0   \n",
              "1                            0                       0   \n",
              "2                            0                       0   \n",
              "3                            0                       0   \n",
              "4                            0                       0   \n",
              "\n",
              "   REG_CITY_NOT_WORK_CITY  LIVE_CITY_NOT_WORK_CITY       ORGANIZATION_TYPE  \\\n",
              "0                       0                        0  Business Entity Type 3   \n",
              "1                       0                        0                  School   \n",
              "2                       0                        0              Government   \n",
              "3                       0                        0  Business Entity Type 3   \n",
              "4                       1                        1                Religion   \n",
              "\n",
              "   EXT_SOURCE_1  EXT_SOURCE_2  EXT_SOURCE_3  APARTMENTS_AVG  BASEMENTAREA_AVG  \\\n",
              "0      0.083037      0.262949      0.139376          0.0247            0.0369   \n",
              "1      0.311267      0.622246           NaN          0.0959            0.0529   \n",
              "2           NaN      0.555912      0.729567             NaN               NaN   \n",
              "3           NaN      0.650442           NaN             NaN               NaN   \n",
              "4           NaN      0.322738           NaN             NaN               NaN   \n",
              "\n",
              "   YEARS_BEGINEXPLUATATION_AVG  YEARS_BUILD_AVG  COMMONAREA_AVG  \\\n",
              "0                       0.9722           0.6192          0.0143   \n",
              "1                       0.9851           0.7960          0.0605   \n",
              "2                          NaN              NaN             NaN   \n",
              "3                          NaN              NaN             NaN   \n",
              "4                          NaN              NaN             NaN   \n",
              "\n",
              "   ELEVATORS_AVG  ENTRANCES_AVG  FLOORSMAX_AVG  FLOORSMIN_AVG  LANDAREA_AVG  \\\n",
              "0           0.00         0.0690         0.0833         0.1250        0.0369   \n",
              "1           0.08         0.0345         0.2917         0.3333        0.0130   \n",
              "2            NaN            NaN            NaN            NaN           NaN   \n",
              "3            NaN            NaN            NaN            NaN           NaN   \n",
              "4            NaN            NaN            NaN            NaN           NaN   \n",
              "\n",
              "   LIVINGAPARTMENTS_AVG  LIVINGAREA_AVG  NONLIVINGAPARTMENTS_AVG  \\\n",
              "0                0.0202          0.0190                   0.0000   \n",
              "1                0.0773          0.0549                   0.0039   \n",
              "2                   NaN             NaN                      NaN   \n",
              "3                   NaN             NaN                      NaN   \n",
              "4                   NaN             NaN                      NaN   \n",
              "\n",
              "   NONLIVINGAREA_AVG  APARTMENTS_MODE  BASEMENTAREA_MODE  \\\n",
              "0             0.0000           0.0252             0.0383   \n",
              "1             0.0098           0.0924             0.0538   \n",
              "2                NaN              NaN                NaN   \n",
              "3                NaN              NaN                NaN   \n",
              "4                NaN              NaN                NaN   \n",
              "\n",
              "   YEARS_BEGINEXPLUATATION_MODE  YEARS_BUILD_MODE  COMMONAREA_MODE  \\\n",
              "0                        0.9722            0.6341           0.0144   \n",
              "1                        0.9851            0.8040           0.0497   \n",
              "2                           NaN               NaN              NaN   \n",
              "3                           NaN               NaN              NaN   \n",
              "4                           NaN               NaN              NaN   \n",
              "\n",
              "   ELEVATORS_MODE  ENTRANCES_MODE  FLOORSMAX_MODE  FLOORSMIN_MODE  \\\n",
              "0          0.0000          0.0690          0.0833          0.1250   \n",
              "1          0.0806          0.0345          0.2917          0.3333   \n",
              "2             NaN             NaN             NaN             NaN   \n",
              "3             NaN             NaN             NaN             NaN   \n",
              "4             NaN             NaN             NaN             NaN   \n",
              "\n",
              "   LANDAREA_MODE  LIVINGAPARTMENTS_MODE  LIVINGAREA_MODE  \\\n",
              "0         0.0377                  0.022           0.0198   \n",
              "1         0.0128                  0.079           0.0554   \n",
              "2            NaN                    NaN              NaN   \n",
              "3            NaN                    NaN              NaN   \n",
              "4            NaN                    NaN              NaN   \n",
              "\n",
              "   NONLIVINGAPARTMENTS_MODE  NONLIVINGAREA_MODE  APARTMENTS_MEDI  \\\n",
              "0                       0.0                 0.0           0.0250   \n",
              "1                       0.0                 0.0           0.0968   \n",
              "2                       NaN                 NaN              NaN   \n",
              "3                       NaN                 NaN              NaN   \n",
              "4                       NaN                 NaN              NaN   \n",
              "\n",
              "   BASEMENTAREA_MEDI  YEARS_BEGINEXPLUATATION_MEDI  YEARS_BUILD_MEDI  \\\n",
              "0             0.0369                        0.9722            0.6243   \n",
              "1             0.0529                        0.9851            0.7987   \n",
              "2                NaN                           NaN               NaN   \n",
              "3                NaN                           NaN               NaN   \n",
              "4                NaN                           NaN               NaN   \n",
              "\n",
              "   COMMONAREA_MEDI  ELEVATORS_MEDI  ENTRANCES_MEDI  FLOORSMAX_MEDI  \\\n",
              "0           0.0144            0.00          0.0690          0.0833   \n",
              "1           0.0608            0.08          0.0345          0.2917   \n",
              "2              NaN             NaN             NaN             NaN   \n",
              "3              NaN             NaN             NaN             NaN   \n",
              "4              NaN             NaN             NaN             NaN   \n",
              "\n",
              "   FLOORSMIN_MEDI  LANDAREA_MEDI  LIVINGAPARTMENTS_MEDI  LIVINGAREA_MEDI  \\\n",
              "0          0.1250         0.0375                 0.0205           0.0193   \n",
              "1          0.3333         0.0132                 0.0787           0.0558   \n",
              "2             NaN            NaN                    NaN              NaN   \n",
              "3             NaN            NaN                    NaN              NaN   \n",
              "4             NaN            NaN                    NaN              NaN   \n",
              "\n",
              "   NONLIVINGAPARTMENTS_MEDI  NONLIVINGAREA_MEDI FONDKAPREMONT_MODE  \\\n",
              "0                    0.0000                0.00   reg oper account   \n",
              "1                    0.0039                0.01   reg oper account   \n",
              "2                       NaN                 NaN                NaN   \n",
              "3                       NaN                 NaN                NaN   \n",
              "4                       NaN                 NaN                NaN   \n",
              "\n",
              "   HOUSETYPE_MODE  TOTALAREA_MODE WALLSMATERIAL_MODE EMERGENCYSTATE_MODE  \\\n",
              "0  block of flats          0.0149       Stone, brick                  No   \n",
              "1  block of flats          0.0714              Block                  No   \n",
              "2             NaN             NaN                NaN                 NaN   \n",
              "3             NaN             NaN                NaN                 NaN   \n",
              "4             NaN             NaN                NaN                 NaN   \n",
              "\n",
              "   OBS_30_CNT_SOCIAL_CIRCLE  DEF_30_CNT_SOCIAL_CIRCLE  \\\n",
              "0                       2.0                       2.0   \n",
              "1                       1.0                       0.0   \n",
              "2                       0.0                       0.0   \n",
              "3                       2.0                       0.0   \n",
              "4                       0.0                       0.0   \n",
              "\n",
              "   OBS_60_CNT_SOCIAL_CIRCLE  DEF_60_CNT_SOCIAL_CIRCLE  DAYS_LAST_PHONE_CHANGE  \\\n",
              "0                       2.0                       2.0                 -1134.0   \n",
              "1                       1.0                       0.0                  -828.0   \n",
              "2                       0.0                       0.0                  -815.0   \n",
              "3                       2.0                       0.0                  -617.0   \n",
              "4                       0.0                       0.0                 -1106.0   \n",
              "\n",
              "   FLAG_DOCUMENT_2  FLAG_DOCUMENT_3  FLAG_DOCUMENT_4  FLAG_DOCUMENT_5  \\\n",
              "0                0                1                0                0   \n",
              "1                0                1                0                0   \n",
              "2                0                0                0                0   \n",
              "3                0                1                0                0   \n",
              "4                0                0                0                0   \n",
              "\n",
              "   FLAG_DOCUMENT_6  FLAG_DOCUMENT_7  FLAG_DOCUMENT_8  FLAG_DOCUMENT_9  \\\n",
              "0                0                0                0                0   \n",
              "1                0                0                0                0   \n",
              "2                0                0                0                0   \n",
              "3                0                0                0                0   \n",
              "4                0                0                1                0   \n",
              "\n",
              "   FLAG_DOCUMENT_10  FLAG_DOCUMENT_11  FLAG_DOCUMENT_12  FLAG_DOCUMENT_13  \\\n",
              "0                 0                 0                 0                 0   \n",
              "1                 0                 0                 0                 0   \n",
              "2                 0                 0                 0                 0   \n",
              "3                 0                 0                 0                 0   \n",
              "4                 0                 0                 0                 0   \n",
              "\n",
              "   FLAG_DOCUMENT_14  FLAG_DOCUMENT_15  FLAG_DOCUMENT_16  FLAG_DOCUMENT_17  \\\n",
              "0                 0                 0                 0                 0   \n",
              "1                 0                 0                 0                 0   \n",
              "2                 0                 0                 0                 0   \n",
              "3                 0                 0                 0                 0   \n",
              "4                 0                 0                 0                 0   \n",
              "\n",
              "   FLAG_DOCUMENT_18  FLAG_DOCUMENT_19  FLAG_DOCUMENT_20  FLAG_DOCUMENT_21  \\\n",
              "0                 0                 0                 0                 0   \n",
              "1                 0                 0                 0                 0   \n",
              "2                 0                 0                 0                 0   \n",
              "3                 0                 0                 0                 0   \n",
              "4                 0                 0                 0                 0   \n",
              "\n",
              "   AMT_REQ_CREDIT_BUREAU_HOUR  AMT_REQ_CREDIT_BUREAU_DAY  \\\n",
              "0                         0.0                        0.0   \n",
              "1                         0.0                        0.0   \n",
              "2                         0.0                        0.0   \n",
              "3                         NaN                        NaN   \n",
              "4                         0.0                        0.0   \n",
              "\n",
              "   AMT_REQ_CREDIT_BUREAU_WEEK  AMT_REQ_CREDIT_BUREAU_MON  \\\n",
              "0                         0.0                        0.0   \n",
              "1                         0.0                        0.0   \n",
              "2                         0.0                        0.0   \n",
              "3                         NaN                        NaN   \n",
              "4                         0.0                        0.0   \n",
              "\n",
              "   AMT_REQ_CREDIT_BUREAU_QRT  AMT_REQ_CREDIT_BUREAU_YEAR  \n",
              "0                        0.0                         1.0  \n",
              "1                        0.0                         0.0  \n",
              "2                        0.0                         0.0  \n",
              "3                        NaN                         NaN  \n",
              "4                        0.0                         0.0  "
            ]
          },
          "metadata": {},
          "execution_count": 10
        }
      ]
    },
    {
      "cell_type": "markdown",
      "metadata": {
        "id": "5ffdac29"
      },
      "source": [
        "# Data Preparation:"
      ],
      "id": "5ffdac29"
    },
    {
      "cell_type": "markdown",
      "metadata": {
        "id": "05f8e00a"
      },
      "source": [
        "* Let's check if there are any applicants whose total income is greater than credit"
      ],
      "id": "05f8e00a"
    },
    {
      "cell_type": "code",
      "metadata": {
        "id": "2f1059f5",
        "colab": {
          "base_uri": "https://localhost:8080/"
        },
        "outputId": "2e025f5d-b44f-4b08-aefc-cb8fbb4846c8"
      },
      "source": [
        "print(f'The shape of the applicatin_train dataset is {application_train.shape[0]} rows and {application_train.shape[1]}')"
      ],
      "id": "2f1059f5",
      "execution_count": 11,
      "outputs": [
        {
          "output_type": "stream",
          "name": "stdout",
          "text": [
            "The shape of the applicatin_train dataset is 307511 rows and 122\n"
          ]
        }
      ]
    },
    {
      "cell_type": "code",
      "metadata": {
        "id": "b19a72dd",
        "colab": {
          "base_uri": "https://localhost:8080/"
        },
        "outputId": "d40b30a6-d525-4da6-85a3-95e5e2ee600e"
      },
      "source": [
        "application_train.isna().sum()"
      ],
      "id": "b19a72dd",
      "execution_count": 12,
      "outputs": [
        {
          "output_type": "execute_result",
          "data": {
            "text/plain": [
              "SK_ID_CURR                           0\n",
              "TARGET                               0\n",
              "NAME_CONTRACT_TYPE                   0\n",
              "CODE_GENDER                          0\n",
              "FLAG_OWN_CAR                         0\n",
              "FLAG_OWN_REALTY                      0\n",
              "CNT_CHILDREN                         0\n",
              "AMT_INCOME_TOTAL                     0\n",
              "AMT_CREDIT                           0\n",
              "AMT_ANNUITY                         12\n",
              "AMT_GOODS_PRICE                    278\n",
              "NAME_TYPE_SUITE                   1292\n",
              "NAME_INCOME_TYPE                     0\n",
              "NAME_EDUCATION_TYPE                  0\n",
              "NAME_FAMILY_STATUS                   0\n",
              "NAME_HOUSING_TYPE                    0\n",
              "REGION_POPULATION_RELATIVE           0\n",
              "DAYS_BIRTH                           0\n",
              "DAYS_EMPLOYED                    55374\n",
              "DAYS_REGISTRATION                    0\n",
              "DAYS_ID_PUBLISH                      0\n",
              "OWN_CAR_AGE                     202929\n",
              "FLAG_MOBIL                           0\n",
              "FLAG_EMP_PHONE                       0\n",
              "FLAG_WORK_PHONE                      0\n",
              "FLAG_CONT_MOBILE                     0\n",
              "FLAG_PHONE                           0\n",
              "FLAG_EMAIL                           0\n",
              "OCCUPATION_TYPE                  96391\n",
              "CNT_FAM_MEMBERS                      2\n",
              "REGION_RATING_CLIENT                 0\n",
              "REGION_RATING_CLIENT_W_CITY          0\n",
              "WEEKDAY_APPR_PROCESS_START           0\n",
              "HOUR_APPR_PROCESS_START              0\n",
              "REG_REGION_NOT_LIVE_REGION           0\n",
              "REG_REGION_NOT_WORK_REGION           0\n",
              "LIVE_REGION_NOT_WORK_REGION          0\n",
              "REG_CITY_NOT_LIVE_CITY               0\n",
              "REG_CITY_NOT_WORK_CITY               0\n",
              "LIVE_CITY_NOT_WORK_CITY              0\n",
              "ORGANIZATION_TYPE                    0\n",
              "EXT_SOURCE_1                    173378\n",
              "EXT_SOURCE_2                       660\n",
              "EXT_SOURCE_3                     60965\n",
              "APARTMENTS_AVG                  156061\n",
              "BASEMENTAREA_AVG                179943\n",
              "YEARS_BEGINEXPLUATATION_AVG     150007\n",
              "YEARS_BUILD_AVG                 204488\n",
              "COMMONAREA_AVG                  214865\n",
              "ELEVATORS_AVG                   163891\n",
              "ENTRANCES_AVG                   154828\n",
              "FLOORSMAX_AVG                   153020\n",
              "FLOORSMIN_AVG                   208642\n",
              "LANDAREA_AVG                    182590\n",
              "LIVINGAPARTMENTS_AVG            210199\n",
              "LIVINGAREA_AVG                  154350\n",
              "NONLIVINGAPARTMENTS_AVG         213514\n",
              "NONLIVINGAREA_AVG               169682\n",
              "APARTMENTS_MODE                 156061\n",
              "BASEMENTAREA_MODE               179943\n",
              "YEARS_BEGINEXPLUATATION_MODE    150007\n",
              "YEARS_BUILD_MODE                204488\n",
              "COMMONAREA_MODE                 214865\n",
              "ELEVATORS_MODE                  163891\n",
              "ENTRANCES_MODE                  154828\n",
              "FLOORSMAX_MODE                  153020\n",
              "FLOORSMIN_MODE                  208642\n",
              "LANDAREA_MODE                   182590\n",
              "LIVINGAPARTMENTS_MODE           210199\n",
              "LIVINGAREA_MODE                 154350\n",
              "NONLIVINGAPARTMENTS_MODE        213514\n",
              "NONLIVINGAREA_MODE              169682\n",
              "APARTMENTS_MEDI                 156061\n",
              "BASEMENTAREA_MEDI               179943\n",
              "YEARS_BEGINEXPLUATATION_MEDI    150007\n",
              "YEARS_BUILD_MEDI                204488\n",
              "COMMONAREA_MEDI                 214865\n",
              "ELEVATORS_MEDI                  163891\n",
              "ENTRANCES_MEDI                  154828\n",
              "FLOORSMAX_MEDI                  153020\n",
              "FLOORSMIN_MEDI                  208642\n",
              "LANDAREA_MEDI                   182590\n",
              "LIVINGAPARTMENTS_MEDI           210199\n",
              "LIVINGAREA_MEDI                 154350\n",
              "NONLIVINGAPARTMENTS_MEDI        213514\n",
              "NONLIVINGAREA_MEDI              169682\n",
              "FONDKAPREMONT_MODE              210295\n",
              "HOUSETYPE_MODE                  154297\n",
              "TOTALAREA_MODE                  148431\n",
              "WALLSMATERIAL_MODE              156341\n",
              "EMERGENCYSTATE_MODE             145755\n",
              "OBS_30_CNT_SOCIAL_CIRCLE          1021\n",
              "DEF_30_CNT_SOCIAL_CIRCLE          1021\n",
              "OBS_60_CNT_SOCIAL_CIRCLE          1021\n",
              "DEF_60_CNT_SOCIAL_CIRCLE          1021\n",
              "DAYS_LAST_PHONE_CHANGE               1\n",
              "FLAG_DOCUMENT_2                      0\n",
              "FLAG_DOCUMENT_3                      0\n",
              "FLAG_DOCUMENT_4                      0\n",
              "FLAG_DOCUMENT_5                      0\n",
              "FLAG_DOCUMENT_6                      0\n",
              "FLAG_DOCUMENT_7                      0\n",
              "FLAG_DOCUMENT_8                      0\n",
              "FLAG_DOCUMENT_9                      0\n",
              "FLAG_DOCUMENT_10                     0\n",
              "FLAG_DOCUMENT_11                     0\n",
              "FLAG_DOCUMENT_12                     0\n",
              "FLAG_DOCUMENT_13                     0\n",
              "FLAG_DOCUMENT_14                     0\n",
              "FLAG_DOCUMENT_15                     0\n",
              "FLAG_DOCUMENT_16                     0\n",
              "FLAG_DOCUMENT_17                     0\n",
              "FLAG_DOCUMENT_18                     0\n",
              "FLAG_DOCUMENT_19                     0\n",
              "FLAG_DOCUMENT_20                     0\n",
              "FLAG_DOCUMENT_21                     0\n",
              "AMT_REQ_CREDIT_BUREAU_HOUR       41519\n",
              "AMT_REQ_CREDIT_BUREAU_DAY        41519\n",
              "AMT_REQ_CREDIT_BUREAU_WEEK       41519\n",
              "AMT_REQ_CREDIT_BUREAU_MON        41519\n",
              "AMT_REQ_CREDIT_BUREAU_QRT        41519\n",
              "AMT_REQ_CREDIT_BUREAU_YEAR       41519\n",
              "dtype: int64"
            ]
          },
          "metadata": {},
          "execution_count": 12
        }
      ]
    },
    {
      "cell_type": "markdown",
      "metadata": {
        "id": "6a537ea9"
      },
      "source": [
        "## With this operation, our data preparation and feature engineering part is completed."
      ],
      "id": "6a537ea9"
    },
    {
      "cell_type": "markdown",
      "metadata": {
        "id": "42e2e4b6"
      },
      "source": [
        "* Separating depepndent and independent features"
      ],
      "id": "42e2e4b6"
    },
    {
      "cell_type": "code",
      "metadata": {
        "colab": {
          "base_uri": "https://localhost:8080/"
        },
        "id": "smi_9Frp0urB",
        "outputId": "40885108-b25f-40b1-b197-0918bf76b45e"
      },
      "source": [
        "# printing the ddata types of the features\n",
        "application_train.dtypes"
      ],
      "id": "smi_9Frp0urB",
      "execution_count": 13,
      "outputs": [
        {
          "output_type": "execute_result",
          "data": {
            "text/plain": [
              "SK_ID_CURR                        int64\n",
              "TARGET                            int64\n",
              "NAME_CONTRACT_TYPE               object\n",
              "CODE_GENDER                      object\n",
              "FLAG_OWN_CAR                     object\n",
              "FLAG_OWN_REALTY                  object\n",
              "CNT_CHILDREN                      int64\n",
              "AMT_INCOME_TOTAL                float64\n",
              "AMT_CREDIT                      float64\n",
              "AMT_ANNUITY                     float64\n",
              "AMT_GOODS_PRICE                 float64\n",
              "NAME_TYPE_SUITE                  object\n",
              "NAME_INCOME_TYPE                 object\n",
              "NAME_EDUCATION_TYPE              object\n",
              "NAME_FAMILY_STATUS               object\n",
              "NAME_HOUSING_TYPE                object\n",
              "REGION_POPULATION_RELATIVE      float64\n",
              "DAYS_BIRTH                        int64\n",
              "DAYS_EMPLOYED                   float64\n",
              "DAYS_REGISTRATION               float64\n",
              "DAYS_ID_PUBLISH                   int64\n",
              "OWN_CAR_AGE                     float64\n",
              "FLAG_MOBIL                        int64\n",
              "FLAG_EMP_PHONE                    int64\n",
              "FLAG_WORK_PHONE                   int64\n",
              "FLAG_CONT_MOBILE                  int64\n",
              "FLAG_PHONE                        int64\n",
              "FLAG_EMAIL                        int64\n",
              "OCCUPATION_TYPE                  object\n",
              "CNT_FAM_MEMBERS                 float64\n",
              "REGION_RATING_CLIENT              int64\n",
              "REGION_RATING_CLIENT_W_CITY       int64\n",
              "WEEKDAY_APPR_PROCESS_START       object\n",
              "HOUR_APPR_PROCESS_START           int64\n",
              "REG_REGION_NOT_LIVE_REGION        int64\n",
              "REG_REGION_NOT_WORK_REGION        int64\n",
              "LIVE_REGION_NOT_WORK_REGION       int64\n",
              "REG_CITY_NOT_LIVE_CITY            int64\n",
              "REG_CITY_NOT_WORK_CITY            int64\n",
              "LIVE_CITY_NOT_WORK_CITY           int64\n",
              "ORGANIZATION_TYPE                object\n",
              "EXT_SOURCE_1                    float64\n",
              "EXT_SOURCE_2                    float64\n",
              "EXT_SOURCE_3                    float64\n",
              "APARTMENTS_AVG                  float64\n",
              "BASEMENTAREA_AVG                float64\n",
              "YEARS_BEGINEXPLUATATION_AVG     float64\n",
              "YEARS_BUILD_AVG                 float64\n",
              "COMMONAREA_AVG                  float64\n",
              "ELEVATORS_AVG                   float64\n",
              "ENTRANCES_AVG                   float64\n",
              "FLOORSMAX_AVG                   float64\n",
              "FLOORSMIN_AVG                   float64\n",
              "LANDAREA_AVG                    float64\n",
              "LIVINGAPARTMENTS_AVG            float64\n",
              "LIVINGAREA_AVG                  float64\n",
              "NONLIVINGAPARTMENTS_AVG         float64\n",
              "NONLIVINGAREA_AVG               float64\n",
              "APARTMENTS_MODE                 float64\n",
              "BASEMENTAREA_MODE               float64\n",
              "YEARS_BEGINEXPLUATATION_MODE    float64\n",
              "YEARS_BUILD_MODE                float64\n",
              "COMMONAREA_MODE                 float64\n",
              "ELEVATORS_MODE                  float64\n",
              "ENTRANCES_MODE                  float64\n",
              "FLOORSMAX_MODE                  float64\n",
              "FLOORSMIN_MODE                  float64\n",
              "LANDAREA_MODE                   float64\n",
              "LIVINGAPARTMENTS_MODE           float64\n",
              "LIVINGAREA_MODE                 float64\n",
              "NONLIVINGAPARTMENTS_MODE        float64\n",
              "NONLIVINGAREA_MODE              float64\n",
              "APARTMENTS_MEDI                 float64\n",
              "BASEMENTAREA_MEDI               float64\n",
              "YEARS_BEGINEXPLUATATION_MEDI    float64\n",
              "YEARS_BUILD_MEDI                float64\n",
              "COMMONAREA_MEDI                 float64\n",
              "ELEVATORS_MEDI                  float64\n",
              "ENTRANCES_MEDI                  float64\n",
              "FLOORSMAX_MEDI                  float64\n",
              "FLOORSMIN_MEDI                  float64\n",
              "LANDAREA_MEDI                   float64\n",
              "LIVINGAPARTMENTS_MEDI           float64\n",
              "LIVINGAREA_MEDI                 float64\n",
              "NONLIVINGAPARTMENTS_MEDI        float64\n",
              "NONLIVINGAREA_MEDI              float64\n",
              "FONDKAPREMONT_MODE               object\n",
              "HOUSETYPE_MODE                   object\n",
              "TOTALAREA_MODE                  float64\n",
              "WALLSMATERIAL_MODE               object\n",
              "EMERGENCYSTATE_MODE              object\n",
              "OBS_30_CNT_SOCIAL_CIRCLE        float64\n",
              "DEF_30_CNT_SOCIAL_CIRCLE        float64\n",
              "OBS_60_CNT_SOCIAL_CIRCLE        float64\n",
              "DEF_60_CNT_SOCIAL_CIRCLE        float64\n",
              "DAYS_LAST_PHONE_CHANGE          float64\n",
              "FLAG_DOCUMENT_2                   int64\n",
              "FLAG_DOCUMENT_3                   int64\n",
              "FLAG_DOCUMENT_4                   int64\n",
              "FLAG_DOCUMENT_5                   int64\n",
              "FLAG_DOCUMENT_6                   int64\n",
              "FLAG_DOCUMENT_7                   int64\n",
              "FLAG_DOCUMENT_8                   int64\n",
              "FLAG_DOCUMENT_9                   int64\n",
              "FLAG_DOCUMENT_10                  int64\n",
              "FLAG_DOCUMENT_11                  int64\n",
              "FLAG_DOCUMENT_12                  int64\n",
              "FLAG_DOCUMENT_13                  int64\n",
              "FLAG_DOCUMENT_14                  int64\n",
              "FLAG_DOCUMENT_15                  int64\n",
              "FLAG_DOCUMENT_16                  int64\n",
              "FLAG_DOCUMENT_17                  int64\n",
              "FLAG_DOCUMENT_18                  int64\n",
              "FLAG_DOCUMENT_19                  int64\n",
              "FLAG_DOCUMENT_20                  int64\n",
              "FLAG_DOCUMENT_21                  int64\n",
              "AMT_REQ_CREDIT_BUREAU_HOUR      float64\n",
              "AMT_REQ_CREDIT_BUREAU_DAY       float64\n",
              "AMT_REQ_CREDIT_BUREAU_WEEK      float64\n",
              "AMT_REQ_CREDIT_BUREAU_MON       float64\n",
              "AMT_REQ_CREDIT_BUREAU_QRT       float64\n",
              "AMT_REQ_CREDIT_BUREAU_YEAR      float64\n",
              "dtype: object"
            ]
          },
          "metadata": {},
          "execution_count": 13
        }
      ]
    },
    {
      "cell_type": "code",
      "metadata": {
        "colab": {
          "base_uri": "https://localhost:8080/"
        },
        "id": "9R5vu7VT0oIK",
        "outputId": "0ba17e7d-664d-4271-dbb8-30d23aec7305"
      },
      "source": [
        "len(application_train.describe(include = ['object']).columns)"
      ],
      "id": "9R5vu7VT0oIK",
      "execution_count": 14,
      "outputs": [
        {
          "output_type": "execute_result",
          "data": {
            "text/plain": [
              "16"
            ]
          },
          "metadata": {},
          "execution_count": 14
        }
      ]
    },
    {
      "cell_type": "code",
      "metadata": {
        "id": "N5t65ExE0n9K"
      },
      "source": [
        "# assigning independent variables to X\n",
        "X = application_train.drop(['SK_ID_CURR', 'TARGET'],axis=1)"
      ],
      "id": "N5t65ExE0n9K",
      "execution_count": 15,
      "outputs": []
    },
    {
      "cell_type": "code",
      "metadata": {
        "id": "6e8326cf"
      },
      "source": [
        "# dependent variable/target variable\n",
        "y = application_train.pop('TARGET').values"
      ],
      "id": "6e8326cf",
      "execution_count": 16,
      "outputs": []
    },
    {
      "cell_type": "code",
      "metadata": {
        "id": "b7bbf7b0",
        "colab": {
          "base_uri": "https://localhost:8080/"
        },
        "outputId": "0d39e889-c8bb-415a-9a67-0a99f337193a"
      },
      "source": [
        "y[:10]"
      ],
      "id": "b7bbf7b0",
      "execution_count": 17,
      "outputs": [
        {
          "output_type": "execute_result",
          "data": {
            "text/plain": [
              "array([1, 0, 0, 0, 0, 0, 0, 0, 0, 0])"
            ]
          },
          "metadata": {},
          "execution_count": 17
        }
      ]
    },
    {
      "cell_type": "markdown",
      "metadata": {
        "id": "fdad60f2"
      },
      "source": [
        "* We will convert the data into three categories: train, validation and test"
      ],
      "id": "fdad60f2"
    },
    {
      "cell_type": "code",
      "metadata": {
        "id": "185598d1",
        "colab": {
          "base_uri": "https://localhost:8080/"
        },
        "outputId": "fca0a238-9da2-422a-d5c8-ace04109ebef"
      },
      "source": [
        "# dividing the dataset into train and test\n",
        "X_train, X_temp, y_train, y_temp = train_test_split(X, y, \n",
        "                                                    stratify = y, test_size=0.3, random_state=0)\n",
        "\n",
        "\n",
        "X_val, X_test, y_val, y_test = train_test_split(X_temp, y_temp, stratify = y_temp, test_size=0.5, random_state=24)\n",
        "print('Shape of X_train:',X_train.shape)\n",
        "print('Shape of X_val:',X_val.shape)\n",
        "print('Shape of X_test:',X_test.shape)"
      ],
      "id": "185598d1",
      "execution_count": 18,
      "outputs": [
        {
          "output_type": "stream",
          "name": "stdout",
          "text": [
            "Shape of X_train: (215257, 120)\n",
            "Shape of X_val: (46127, 120)\n",
            "Shape of X_test: (46127, 120)\n"
          ]
        }
      ]
    },
    {
      "cell_type": "markdown",
      "metadata": {
        "id": "6ecadc7e"
      },
      "source": [
        "* So far, we haven't treated the missing values. So, let's handle the missing values now."
      ],
      "id": "6ecadc7e"
    },
    {
      "cell_type": "code",
      "metadata": {
        "colab": {
          "base_uri": "https://localhost:8080/"
        },
        "id": "P6sOTusq4Zfp",
        "outputId": "96f3bdc8-b590-40d7-ba92-a212d2db7cd2"
      },
      "source": [
        "application_train.shape"
      ],
      "id": "P6sOTusq4Zfp",
      "execution_count": 19,
      "outputs": [
        {
          "output_type": "execute_result",
          "data": {
            "text/plain": [
              "(307511, 121)"
            ]
          },
          "metadata": {},
          "execution_count": 19
        }
      ]
    },
    {
      "cell_type": "code",
      "metadata": {
        "id": "d9a97e95"
      },
      "source": [
        "# Seperation of columns into numeric and categorical columns\n",
        "dtypes = np.array([dt for dt in X_train.dtypes])\n",
        "all_columns = X_train.columns.values\n",
        "is_num = dtypes != 'object'\n",
        "\n",
        "# numerical columns\n",
        "num_cols = all_columns[is_num]\n",
        "\n",
        "# categorical columns\n",
        "cat_cols = all_columns[~is_num]"
      ],
      "id": "d9a97e95",
      "execution_count": 20,
      "outputs": []
    },
    {
      "cell_type": "code",
      "metadata": {
        "id": "8e456a70",
        "colab": {
          "base_uri": "https://localhost:8080/"
        },
        "outputId": "f26ef41d-cf7c-469f-8544-f5a520c41a88"
      },
      "source": [
        "# list of all column names\n",
        "X_train.columns.values"
      ],
      "id": "8e456a70",
      "execution_count": 21,
      "outputs": [
        {
          "output_type": "execute_result",
          "data": {
            "text/plain": [
              "array(['NAME_CONTRACT_TYPE', 'CODE_GENDER', 'FLAG_OWN_CAR',\n",
              "       'FLAG_OWN_REALTY', 'CNT_CHILDREN', 'AMT_INCOME_TOTAL',\n",
              "       'AMT_CREDIT', 'AMT_ANNUITY', 'AMT_GOODS_PRICE', 'NAME_TYPE_SUITE',\n",
              "       'NAME_INCOME_TYPE', 'NAME_EDUCATION_TYPE', 'NAME_FAMILY_STATUS',\n",
              "       'NAME_HOUSING_TYPE', 'REGION_POPULATION_RELATIVE', 'DAYS_BIRTH',\n",
              "       'DAYS_EMPLOYED', 'DAYS_REGISTRATION', 'DAYS_ID_PUBLISH',\n",
              "       'OWN_CAR_AGE', 'FLAG_MOBIL', 'FLAG_EMP_PHONE', 'FLAG_WORK_PHONE',\n",
              "       'FLAG_CONT_MOBILE', 'FLAG_PHONE', 'FLAG_EMAIL', 'OCCUPATION_TYPE',\n",
              "       'CNT_FAM_MEMBERS', 'REGION_RATING_CLIENT',\n",
              "       'REGION_RATING_CLIENT_W_CITY', 'WEEKDAY_APPR_PROCESS_START',\n",
              "       'HOUR_APPR_PROCESS_START', 'REG_REGION_NOT_LIVE_REGION',\n",
              "       'REG_REGION_NOT_WORK_REGION', 'LIVE_REGION_NOT_WORK_REGION',\n",
              "       'REG_CITY_NOT_LIVE_CITY', 'REG_CITY_NOT_WORK_CITY',\n",
              "       'LIVE_CITY_NOT_WORK_CITY', 'ORGANIZATION_TYPE', 'EXT_SOURCE_1',\n",
              "       'EXT_SOURCE_2', 'EXT_SOURCE_3', 'APARTMENTS_AVG',\n",
              "       'BASEMENTAREA_AVG', 'YEARS_BEGINEXPLUATATION_AVG',\n",
              "       'YEARS_BUILD_AVG', 'COMMONAREA_AVG', 'ELEVATORS_AVG',\n",
              "       'ENTRANCES_AVG', 'FLOORSMAX_AVG', 'FLOORSMIN_AVG', 'LANDAREA_AVG',\n",
              "       'LIVINGAPARTMENTS_AVG', 'LIVINGAREA_AVG',\n",
              "       'NONLIVINGAPARTMENTS_AVG', 'NONLIVINGAREA_AVG', 'APARTMENTS_MODE',\n",
              "       'BASEMENTAREA_MODE', 'YEARS_BEGINEXPLUATATION_MODE',\n",
              "       'YEARS_BUILD_MODE', 'COMMONAREA_MODE', 'ELEVATORS_MODE',\n",
              "       'ENTRANCES_MODE', 'FLOORSMAX_MODE', 'FLOORSMIN_MODE',\n",
              "       'LANDAREA_MODE', 'LIVINGAPARTMENTS_MODE', 'LIVINGAREA_MODE',\n",
              "       'NONLIVINGAPARTMENTS_MODE', 'NONLIVINGAREA_MODE',\n",
              "       'APARTMENTS_MEDI', 'BASEMENTAREA_MEDI',\n",
              "       'YEARS_BEGINEXPLUATATION_MEDI', 'YEARS_BUILD_MEDI',\n",
              "       'COMMONAREA_MEDI', 'ELEVATORS_MEDI', 'ENTRANCES_MEDI',\n",
              "       'FLOORSMAX_MEDI', 'FLOORSMIN_MEDI', 'LANDAREA_MEDI',\n",
              "       'LIVINGAPARTMENTS_MEDI', 'LIVINGAREA_MEDI',\n",
              "       'NONLIVINGAPARTMENTS_MEDI', 'NONLIVINGAREA_MEDI',\n",
              "       'FONDKAPREMONT_MODE', 'HOUSETYPE_MODE', 'TOTALAREA_MODE',\n",
              "       'WALLSMATERIAL_MODE', 'EMERGENCYSTATE_MODE',\n",
              "       'OBS_30_CNT_SOCIAL_CIRCLE', 'DEF_30_CNT_SOCIAL_CIRCLE',\n",
              "       'OBS_60_CNT_SOCIAL_CIRCLE', 'DEF_60_CNT_SOCIAL_CIRCLE',\n",
              "       'DAYS_LAST_PHONE_CHANGE', 'FLAG_DOCUMENT_2', 'FLAG_DOCUMENT_3',\n",
              "       'FLAG_DOCUMENT_4', 'FLAG_DOCUMENT_5', 'FLAG_DOCUMENT_6',\n",
              "       'FLAG_DOCUMENT_7', 'FLAG_DOCUMENT_8', 'FLAG_DOCUMENT_9',\n",
              "       'FLAG_DOCUMENT_10', 'FLAG_DOCUMENT_11', 'FLAG_DOCUMENT_12',\n",
              "       'FLAG_DOCUMENT_13', 'FLAG_DOCUMENT_14', 'FLAG_DOCUMENT_15',\n",
              "       'FLAG_DOCUMENT_16', 'FLAG_DOCUMENT_17', 'FLAG_DOCUMENT_18',\n",
              "       'FLAG_DOCUMENT_19', 'FLAG_DOCUMENT_20', 'FLAG_DOCUMENT_21',\n",
              "       'AMT_REQ_CREDIT_BUREAU_HOUR', 'AMT_REQ_CREDIT_BUREAU_DAY',\n",
              "       'AMT_REQ_CREDIT_BUREAU_WEEK', 'AMT_REQ_CREDIT_BUREAU_MON',\n",
              "       'AMT_REQ_CREDIT_BUREAU_QRT', 'AMT_REQ_CREDIT_BUREAU_YEAR'],\n",
              "      dtype=object)"
            ]
          },
          "metadata": {},
          "execution_count": 21
        }
      ]
    },
    {
      "cell_type": "code",
      "metadata": {
        "colab": {
          "base_uri": "https://localhost:8080/"
        },
        "id": "S1Hae9U95EQR",
        "outputId": "2c46c34d-228b-4a7d-bd72-016ca2833d37"
      },
      "source": [
        "X_train[num_cols].shape"
      ],
      "id": "S1Hae9U95EQR",
      "execution_count": 22,
      "outputs": [
        {
          "output_type": "execute_result",
          "data": {
            "text/plain": [
              "(215257, 104)"
            ]
          },
          "metadata": {},
          "execution_count": 22
        }
      ]
    },
    {
      "cell_type": "code",
      "metadata": {
        "id": "332db69d"
      },
      "source": [
        "# Featurization of numeric data\n",
        "# we will impute with the median data as median is least affected by multiple outliers\n",
        "imputer_num = SimpleImputer(strategy='median')\n",
        "X_train_num = imputer_num.fit_transform(X_train[num_cols])\n",
        "X_val_num = imputer_num.transform(X_val[num_cols])\n",
        "X_test_num = imputer_num.transform(X_test[num_cols])"
      ],
      "id": "332db69d",
      "execution_count": 23,
      "outputs": []
    },
    {
      "cell_type": "code",
      "metadata": {
        "id": "0bfcc872"
      },
      "source": [
        "# standardizing the values\n",
        "scaler_num = StandardScaler()\n",
        "X_train_num1 = scaler_num.fit_transform(X_train_num)\n",
        "X_val_num1 = scaler_num.transform(X_val_num)\n",
        "X_test_num1 = scaler_num.transform(X_test_num)"
      ],
      "id": "0bfcc872",
      "execution_count": 24,
      "outputs": []
    },
    {
      "cell_type": "code",
      "metadata": {
        "id": "ff93333f"
      },
      "source": [
        "# converting the final imputed dfs into dataframes for future use\n",
        "X_train_num_final = pd.DataFrame(X_train_num1, columns=num_cols)\n",
        "X_val_num_final = pd.DataFrame(X_val_num1, columns=num_cols)\n",
        "X_test_num_final = pd.DataFrame(X_test_num1, columns=num_cols)"
      ],
      "id": "ff93333f",
      "execution_count": 25,
      "outputs": []
    },
    {
      "cell_type": "code",
      "metadata": {
        "id": "216fef26"
      },
      "source": [
        "# Featurization of categorical data\n",
        "imputer_cat = SimpleImputer(strategy='constant', fill_value='MISSING')\n",
        "X_train_cat = imputer_cat.fit_transform(X_train[cat_cols])\n",
        "X_val_cat = imputer_cat.transform(X_val[cat_cols])\n",
        "X_test_cat = imputer_cat.transform(X_test[cat_cols])"
      ],
      "id": "216fef26",
      "execution_count": 26,
      "outputs": []
    },
    {
      "cell_type": "code",
      "metadata": {
        "id": "36c75ed0"
      },
      "source": [
        "# converting the imputed categorical variables into dataframe \n",
        "X_train_cat1= pd.DataFrame(X_train_cat, columns=cat_cols)\n",
        "X_val_cat1= pd.DataFrame(X_val_cat, columns=cat_cols)\n",
        "X_test_cat1= pd.DataFrame(X_test_cat, columns=cat_cols)"
      ],
      "id": "36c75ed0",
      "execution_count": 27,
      "outputs": []
    },
    {
      "cell_type": "code",
      "metadata": {
        "id": "f841fe85"
      },
      "source": [
        "# using one hot encoding \n",
        "ohe = OneHotEncoder(sparse=False,handle_unknown='ignore')\n",
        "X_train_cat2 = ohe.fit_transform(X_train_cat1)\n",
        "X_val_cat2 = ohe.transform(X_val_cat1)\n",
        "X_test_cat2 = ohe.transform(X_test_cat1)"
      ],
      "id": "f841fe85",
      "execution_count": 28,
      "outputs": []
    },
    {
      "cell_type": "code",
      "metadata": {
        "id": "5b8c081b"
      },
      "source": [
        "# getting the list of columns after performing one hot encoding\n",
        "cat_cols_ohe = list(ohe.get_feature_names(input_features=cat_cols))"
      ],
      "id": "5b8c081b",
      "execution_count": 29,
      "outputs": []
    },
    {
      "cell_type": "code",
      "metadata": {
        "id": "8070b8d4",
        "colab": {
          "base_uri": "https://localhost:8080/"
        },
        "outputId": "09ddb4b1-8e29-46f2-beee-c03e35fd7a91"
      },
      "source": [
        "cat_cols_ohe"
      ],
      "id": "8070b8d4",
      "execution_count": 30,
      "outputs": [
        {
          "output_type": "execute_result",
          "data": {
            "text/plain": [
              "['NAME_CONTRACT_TYPE_Cash loans',\n",
              " 'NAME_CONTRACT_TYPE_Revolving loans',\n",
              " 'CODE_GENDER_F',\n",
              " 'CODE_GENDER_M',\n",
              " 'CODE_GENDER_XNA',\n",
              " 'FLAG_OWN_CAR_N',\n",
              " 'FLAG_OWN_CAR_Y',\n",
              " 'FLAG_OWN_REALTY_N',\n",
              " 'FLAG_OWN_REALTY_Y',\n",
              " 'NAME_TYPE_SUITE_Children',\n",
              " 'NAME_TYPE_SUITE_Family',\n",
              " 'NAME_TYPE_SUITE_Group of people',\n",
              " 'NAME_TYPE_SUITE_MISSING',\n",
              " 'NAME_TYPE_SUITE_Other_A',\n",
              " 'NAME_TYPE_SUITE_Other_B',\n",
              " 'NAME_TYPE_SUITE_Spouse, partner',\n",
              " 'NAME_TYPE_SUITE_Unaccompanied',\n",
              " 'NAME_INCOME_TYPE_Businessman',\n",
              " 'NAME_INCOME_TYPE_Commercial associate',\n",
              " 'NAME_INCOME_TYPE_Maternity leave',\n",
              " 'NAME_INCOME_TYPE_Pensioner',\n",
              " 'NAME_INCOME_TYPE_State servant',\n",
              " 'NAME_INCOME_TYPE_Student',\n",
              " 'NAME_INCOME_TYPE_Unemployed',\n",
              " 'NAME_INCOME_TYPE_Working',\n",
              " 'NAME_EDUCATION_TYPE_Academic degree',\n",
              " 'NAME_EDUCATION_TYPE_Higher education',\n",
              " 'NAME_EDUCATION_TYPE_Incomplete higher',\n",
              " 'NAME_EDUCATION_TYPE_Lower secondary',\n",
              " 'NAME_EDUCATION_TYPE_Secondary / secondary special',\n",
              " 'NAME_FAMILY_STATUS_Civil marriage',\n",
              " 'NAME_FAMILY_STATUS_Married',\n",
              " 'NAME_FAMILY_STATUS_Separated',\n",
              " 'NAME_FAMILY_STATUS_Single / not married',\n",
              " 'NAME_FAMILY_STATUS_Unknown',\n",
              " 'NAME_FAMILY_STATUS_Widow',\n",
              " 'NAME_HOUSING_TYPE_Co-op apartment',\n",
              " 'NAME_HOUSING_TYPE_House / apartment',\n",
              " 'NAME_HOUSING_TYPE_Municipal apartment',\n",
              " 'NAME_HOUSING_TYPE_Office apartment',\n",
              " 'NAME_HOUSING_TYPE_Rented apartment',\n",
              " 'NAME_HOUSING_TYPE_With parents',\n",
              " 'OCCUPATION_TYPE_Accountants',\n",
              " 'OCCUPATION_TYPE_Cleaning staff',\n",
              " 'OCCUPATION_TYPE_Cooking staff',\n",
              " 'OCCUPATION_TYPE_Core staff',\n",
              " 'OCCUPATION_TYPE_Drivers',\n",
              " 'OCCUPATION_TYPE_HR staff',\n",
              " 'OCCUPATION_TYPE_High skill tech staff',\n",
              " 'OCCUPATION_TYPE_IT staff',\n",
              " 'OCCUPATION_TYPE_Laborers',\n",
              " 'OCCUPATION_TYPE_Low-skill Laborers',\n",
              " 'OCCUPATION_TYPE_MISSING',\n",
              " 'OCCUPATION_TYPE_Managers',\n",
              " 'OCCUPATION_TYPE_Medicine staff',\n",
              " 'OCCUPATION_TYPE_Private service staff',\n",
              " 'OCCUPATION_TYPE_Realty agents',\n",
              " 'OCCUPATION_TYPE_Sales staff',\n",
              " 'OCCUPATION_TYPE_Secretaries',\n",
              " 'OCCUPATION_TYPE_Security staff',\n",
              " 'OCCUPATION_TYPE_Waiters/barmen staff',\n",
              " 'WEEKDAY_APPR_PROCESS_START_FRIDAY',\n",
              " 'WEEKDAY_APPR_PROCESS_START_MONDAY',\n",
              " 'WEEKDAY_APPR_PROCESS_START_SATURDAY',\n",
              " 'WEEKDAY_APPR_PROCESS_START_SUNDAY',\n",
              " 'WEEKDAY_APPR_PROCESS_START_THURSDAY',\n",
              " 'WEEKDAY_APPR_PROCESS_START_TUESDAY',\n",
              " 'WEEKDAY_APPR_PROCESS_START_WEDNESDAY',\n",
              " 'ORGANIZATION_TYPE_Advertising',\n",
              " 'ORGANIZATION_TYPE_Agriculture',\n",
              " 'ORGANIZATION_TYPE_Bank',\n",
              " 'ORGANIZATION_TYPE_Business Entity Type 1',\n",
              " 'ORGANIZATION_TYPE_Business Entity Type 2',\n",
              " 'ORGANIZATION_TYPE_Business Entity Type 3',\n",
              " 'ORGANIZATION_TYPE_Cleaning',\n",
              " 'ORGANIZATION_TYPE_Construction',\n",
              " 'ORGANIZATION_TYPE_Culture',\n",
              " 'ORGANIZATION_TYPE_Electricity',\n",
              " 'ORGANIZATION_TYPE_Emergency',\n",
              " 'ORGANIZATION_TYPE_Government',\n",
              " 'ORGANIZATION_TYPE_Hotel',\n",
              " 'ORGANIZATION_TYPE_Housing',\n",
              " 'ORGANIZATION_TYPE_Industry: type 1',\n",
              " 'ORGANIZATION_TYPE_Industry: type 10',\n",
              " 'ORGANIZATION_TYPE_Industry: type 11',\n",
              " 'ORGANIZATION_TYPE_Industry: type 12',\n",
              " 'ORGANIZATION_TYPE_Industry: type 13',\n",
              " 'ORGANIZATION_TYPE_Industry: type 2',\n",
              " 'ORGANIZATION_TYPE_Industry: type 3',\n",
              " 'ORGANIZATION_TYPE_Industry: type 4',\n",
              " 'ORGANIZATION_TYPE_Industry: type 5',\n",
              " 'ORGANIZATION_TYPE_Industry: type 6',\n",
              " 'ORGANIZATION_TYPE_Industry: type 7',\n",
              " 'ORGANIZATION_TYPE_Industry: type 8',\n",
              " 'ORGANIZATION_TYPE_Industry: type 9',\n",
              " 'ORGANIZATION_TYPE_Insurance',\n",
              " 'ORGANIZATION_TYPE_Kindergarten',\n",
              " 'ORGANIZATION_TYPE_Legal Services',\n",
              " 'ORGANIZATION_TYPE_Medicine',\n",
              " 'ORGANIZATION_TYPE_Military',\n",
              " 'ORGANIZATION_TYPE_Mobile',\n",
              " 'ORGANIZATION_TYPE_Other',\n",
              " 'ORGANIZATION_TYPE_Police',\n",
              " 'ORGANIZATION_TYPE_Postal',\n",
              " 'ORGANIZATION_TYPE_Realtor',\n",
              " 'ORGANIZATION_TYPE_Religion',\n",
              " 'ORGANIZATION_TYPE_Restaurant',\n",
              " 'ORGANIZATION_TYPE_School',\n",
              " 'ORGANIZATION_TYPE_Security',\n",
              " 'ORGANIZATION_TYPE_Security Ministries',\n",
              " 'ORGANIZATION_TYPE_Self-employed',\n",
              " 'ORGANIZATION_TYPE_Services',\n",
              " 'ORGANIZATION_TYPE_Telecom',\n",
              " 'ORGANIZATION_TYPE_Trade: type 1',\n",
              " 'ORGANIZATION_TYPE_Trade: type 2',\n",
              " 'ORGANIZATION_TYPE_Trade: type 3',\n",
              " 'ORGANIZATION_TYPE_Trade: type 4',\n",
              " 'ORGANIZATION_TYPE_Trade: type 5',\n",
              " 'ORGANIZATION_TYPE_Trade: type 6',\n",
              " 'ORGANIZATION_TYPE_Trade: type 7',\n",
              " 'ORGANIZATION_TYPE_Transport: type 1',\n",
              " 'ORGANIZATION_TYPE_Transport: type 2',\n",
              " 'ORGANIZATION_TYPE_Transport: type 3',\n",
              " 'ORGANIZATION_TYPE_Transport: type 4',\n",
              " 'ORGANIZATION_TYPE_University',\n",
              " 'ORGANIZATION_TYPE_XNA',\n",
              " 'FONDKAPREMONT_MODE_MISSING',\n",
              " 'FONDKAPREMONT_MODE_not specified',\n",
              " 'FONDKAPREMONT_MODE_org spec account',\n",
              " 'FONDKAPREMONT_MODE_reg oper account',\n",
              " 'FONDKAPREMONT_MODE_reg oper spec account',\n",
              " 'HOUSETYPE_MODE_MISSING',\n",
              " 'HOUSETYPE_MODE_block of flats',\n",
              " 'HOUSETYPE_MODE_specific housing',\n",
              " 'HOUSETYPE_MODE_terraced house',\n",
              " 'WALLSMATERIAL_MODE_Block',\n",
              " 'WALLSMATERIAL_MODE_MISSING',\n",
              " 'WALLSMATERIAL_MODE_Mixed',\n",
              " 'WALLSMATERIAL_MODE_Monolithic',\n",
              " 'WALLSMATERIAL_MODE_Others',\n",
              " 'WALLSMATERIAL_MODE_Panel',\n",
              " 'WALLSMATERIAL_MODE_Stone, brick',\n",
              " 'WALLSMATERIAL_MODE_Wooden',\n",
              " 'EMERGENCYSTATE_MODE_MISSING',\n",
              " 'EMERGENCYSTATE_MODE_No',\n",
              " 'EMERGENCYSTATE_MODE_Yes']"
            ]
          },
          "metadata": {},
          "execution_count": 30
        }
      ]
    },
    {
      "cell_type": "code",
      "metadata": {
        "id": "691de58e"
      },
      "source": [
        "X_train_cat_final = pd.DataFrame(X_train_cat2, columns = cat_cols_ohe)\n",
        "X_val_cat_final = pd.DataFrame(X_val_cat2, columns = cat_cols_ohe)\n",
        "X_test_cat_final = pd.DataFrame(X_test_cat2, columns = cat_cols_ohe)"
      ],
      "id": "691de58e",
      "execution_count": 31,
      "outputs": []
    },
    {
      "cell_type": "code",
      "metadata": {
        "id": "020bc9d1",
        "colab": {
          "base_uri": "https://localhost:8080/"
        },
        "outputId": "1a802d44-561c-46a9-b340-662ae355d688"
      },
      "source": [
        "# Final complete data\n",
        "X_train_final = pd.concat([X_train_num_final,X_train_cat_final], axis = 1)\n",
        "X_val_final = pd.concat([X_val_num_final,X_val_cat_final], axis = 1)\n",
        "X_test_final = pd.concat([X_test_num_final,X_test_cat_final], axis = 1)\n",
        "\n",
        "print(X_train_final.shape)\n",
        "print(X_val_final.shape)\n",
        "print(X_test_final.shape)"
      ],
      "id": "020bc9d1",
      "execution_count": 32,
      "outputs": [
        {
          "output_type": "stream",
          "name": "stdout",
          "text": [
            "(215257, 250)\n",
            "(46127, 250)\n",
            "(46127, 250)\n"
          ]
        }
      ]
    },
    {
      "cell_type": "code",
      "metadata": {
        "id": "149dd8dd"
      },
      "source": [
        "# # Saving the Dataframes into CSV files for future use\n",
        "# X_train_final.to_csv('X_train_final.csv')\n",
        "# X_val_final.to_csv('X_val_final.csv')\n",
        "# X_test_final.to_csv('X_test_final.csv')\n",
        "# # Saving the numpy arrays into text files for future use\n",
        "# np.savetxt('y.txt', y)\n",
        "# np.savetxt('y_train.txt', y_train)\n",
        "# np.savetxt('y_val.txt', y_val)\n",
        "# np.savetxt('y_test.txt', y_test)"
      ],
      "id": "149dd8dd",
      "execution_count": 33,
      "outputs": []
    },
    {
      "cell_type": "code",
      "metadata": {
        "colab": {
          "base_uri": "https://localhost:8080/"
        },
        "id": "0B4a19kz9hfq",
        "outputId": "6a4c4357-a802-4e2f-81e3-faf6c2810587"
      },
      "source": [
        "X_train_final.shape, y_train.shape"
      ],
      "id": "0B4a19kz9hfq",
      "execution_count": 34,
      "outputs": [
        {
          "output_type": "execute_result",
          "data": {
            "text/plain": [
              "((215257, 250), (215257,))"
            ]
          },
          "metadata": {},
          "execution_count": 34
        }
      ]
    },
    {
      "cell_type": "markdown",
      "metadata": {
        "id": "Ax-yQ040GEu5"
      },
      "source": [
        "# PCA"
      ],
      "id": "Ax-yQ040GEu5"
    },
    {
      "cell_type": "code",
      "metadata": {
        "id": "0gHJLkQQGGhR"
      },
      "source": [
        "from sklearn.decomposition import PCA"
      ],
      "id": "0gHJLkQQGGhR",
      "execution_count": 35,
      "outputs": []
    },
    {
      "cell_type": "code",
      "metadata": {
        "id": "WDcupBKBGGdV"
      },
      "source": [
        "pca = PCA(n_components=200)"
      ],
      "id": "WDcupBKBGGdV",
      "execution_count": 36,
      "outputs": []
    },
    {
      "cell_type": "code",
      "metadata": {
        "id": "5hIW4e9RGGah"
      },
      "source": [
        "# pca on training data\n",
        "pca.fit(X_train_final)\n",
        "\n",
        "X_train_pca = pca.transform(X_train_final)"
      ],
      "id": "5hIW4e9RGGah",
      "execution_count": 37,
      "outputs": []
    },
    {
      "cell_type": "code",
      "metadata": {
        "id": "BQvaLrkTGGYW"
      },
      "source": [
        "# pca on validation data\n",
        "pca.fit(X_val_final)\n",
        "\n",
        "X_val_pca = pca.transform(X_val_final)"
      ],
      "id": "BQvaLrkTGGYW",
      "execution_count": 38,
      "outputs": []
    },
    {
      "cell_type": "code",
      "metadata": {
        "id": "pzfUSmtokI1U"
      },
      "source": [
        "# pca on test data\n",
        "pca.fit(X_test_final)\n",
        "\n",
        "X_test_pca = pca.transform(X_test_final)"
      ],
      "id": "pzfUSmtokI1U",
      "execution_count": 39,
      "outputs": []
    },
    {
      "cell_type": "markdown",
      "metadata": {
        "id": "YIyn4JDRGtul"
      },
      "source": [
        "# Logistic Regression"
      ],
      "id": "YIyn4JDRGtul"
    },
    {
      "cell_type": "code",
      "metadata": {
        "id": "aEXVr--J9NgR"
      },
      "source": [
        "logistic = LogisticRegression()"
      ],
      "id": "aEXVr--J9NgR",
      "execution_count": 40,
      "outputs": []
    },
    {
      "cell_type": "code",
      "metadata": {
        "colab": {
          "base_uri": "https://localhost:8080/"
        },
        "id": "8zolpB9d9Nde",
        "outputId": "386ad103-2c75-4dd6-e5c6-02daf8a90b59"
      },
      "source": [
        "# fitting the train data\n",
        "logistic.fit(X_train_pca, y_train)"
      ],
      "id": "8zolpB9d9Nde",
      "execution_count": 41,
      "outputs": [
        {
          "output_type": "execute_result",
          "data": {
            "text/plain": [
              "LogisticRegression(C=1.0, class_weight=None, dual=False, fit_intercept=True,\n",
              "                   intercept_scaling=1, l1_ratio=None, max_iter=100,\n",
              "                   multi_class='auto', n_jobs=None, penalty='l2',\n",
              "                   random_state=None, solver='lbfgs', tol=0.0001, verbose=0,\n",
              "                   warm_start=False)"
            ]
          },
          "metadata": {},
          "execution_count": 41
        }
      ]
    },
    {
      "cell_type": "code",
      "metadata": {
        "colab": {
          "base_uri": "https://localhost:8080/"
        },
        "id": "SdobUzhGksL8",
        "outputId": "fa8f8eee-5c02-469c-a14d-0293481a43c0"
      },
      "source": [
        "# printing the coefficient values for every feature\n",
        "logistic.coef_"
      ],
      "id": "SdobUzhGksL8",
      "execution_count": 42,
      "outputs": [
        {
          "output_type": "execute_result",
          "data": {
            "text/plain": [
              "array([[-3.88069484e-02,  6.13293815e-02,  1.62913664e-01,\n",
              "        -1.08869114e-01,  9.73280793e-02,  8.92900477e-02,\n",
              "        -4.05867815e-02,  6.44270547e-02,  3.12470943e-02,\n",
              "        -1.70234525e-02,  4.22886351e-02,  2.33155586e-02,\n",
              "        -2.16593626e-01,  4.91752916e-02,  6.10510188e-02,\n",
              "         1.09188364e-01, -1.91165728e-01,  2.37265024e-02,\n",
              "        -3.50955101e-02, -5.05633457e-02, -1.13745959e-02,\n",
              "         1.43038218e-02, -3.22489213e-01, -1.17143391e-01,\n",
              "        -5.45208892e-02,  5.07560364e-03, -4.64067820e-02,\n",
              "        -1.08560047e-01, -3.02172944e-02, -1.18867592e-02,\n",
              "         2.73937141e-02,  6.31946907e-04, -1.16083123e-02,\n",
              "        -5.52160560e-03, -1.93305036e-02, -2.71673990e-02,\n",
              "        -2.11027245e-02,  6.62178618e-02, -3.95871676e-03,\n",
              "         2.26601137e-02, -3.78818438e-02, -4.99308387e-02,\n",
              "         2.41523881e-02,  1.79621060e-02,  8.41335131e-02,\n",
              "         6.60469810e-02,  1.28538365e-01, -9.30639141e-02,\n",
              "         1.32425907e-01, -2.26971703e-01, -8.33089538e-02,\n",
              "        -1.08124159e-01, -2.35617747e-02, -5.77981835e-02,\n",
              "        -9.80396430e-02, -1.22492991e-01,  1.85696145e-01,\n",
              "         2.87010238e-02,  3.00487756e-02,  5.10243450e-03,\n",
              "        -3.82960900e-02,  9.99384606e-02,  5.02080536e-02,\n",
              "        -1.02507825e-01,  4.01824305e-02,  3.26253920e-01,\n",
              "        -2.16913747e-01,  9.87570018e-03, -1.29933676e-02,\n",
              "        -1.46794425e-01, -9.28273005e-02, -1.03040105e-01,\n",
              "         6.99837865e-02,  1.56464424e-02, -1.52908769e-02,\n",
              "         3.07235631e-02,  6.09660375e-02,  1.42202885e-02,\n",
              "         3.44046145e-02,  3.53186482e-02, -2.75461751e-02,\n",
              "         5.95140587e-03, -2.78261563e-02, -7.30435395e-02,\n",
              "        -5.22207501e-02,  1.27132875e-01, -8.90167824e-02,\n",
              "         6.23524190e-02,  7.40614966e-04,  5.14894104e-02,\n",
              "         7.98594570e-03,  3.22498923e-02,  8.85177934e-04,\n",
              "        -1.24853756e-02,  3.05390957e-02, -4.72816153e-02,\n",
              "         4.43345106e-02, -2.68445681e-02, -9.81071472e-02,\n",
              "        -9.32570591e-02,  3.10178892e-03, -6.34018401e-02,\n",
              "        -2.50691923e-02, -8.15603276e-02, -4.43867981e-02,\n",
              "        -1.62593536e-02,  5.55135997e-02,  3.99943093e-02,\n",
              "        -1.32100809e-01,  1.33280194e-01, -9.80167521e-02,\n",
              "        -5.24651080e-02, -6.36907121e-02,  6.67006274e-03,\n",
              "        -1.48497754e-02, -1.28495653e-01,  7.40443912e-02,\n",
              "        -5.38112795e-03,  1.75025644e-01, -1.45719124e-02,\n",
              "         7.42453118e-03, -5.25566146e-02,  4.05974015e-02,\n",
              "         2.24165206e-01,  6.75370057e-02, -6.40088551e-02,\n",
              "        -8.17136281e-02, -7.32895164e-02, -1.25935297e-01,\n",
              "        -4.49172974e-02,  4.66610514e-02,  8.29763508e-02,\n",
              "         1.60275106e-01,  5.10131113e-02,  7.86403941e-02,\n",
              "         2.81315595e-01, -4.65849444e-02,  2.41737368e-01,\n",
              "        -1.21470713e-02, -2.35918581e-01,  1.33832118e+00,\n",
              "         1.34621214e-01, -1.30396881e-01,  1.30848048e-01,\n",
              "        -2.98617397e-01, -2.48970412e-01,  3.44197833e-02,\n",
              "        -3.16364501e-02, -1.15172741e-01,  1.13361224e-01,\n",
              "         1.07374345e-01, -7.41160329e-03,  1.57103465e-01,\n",
              "        -1.70191524e-01,  1.81409671e-01, -2.86786794e-02,\n",
              "         1.80101469e-01, -3.33951040e-02, -1.76173861e-01,\n",
              "         6.98068507e-03,  1.54947636e-02, -3.78623928e-02,\n",
              "         6.97302012e-02,  2.05169276e-01, -2.69373806e-01,\n",
              "         1.03210388e-01,  1.92524092e-01,  2.84327306e-01,\n",
              "        -1.16507019e-01, -8.61762741e-02, -4.47087456e-02,\n",
              "         2.40777675e-02,  2.00824187e-01, -1.20299250e-01,\n",
              "        -1.12728273e-01, -4.45207192e-02, -4.15368329e-02,\n",
              "        -1.02286591e-01,  1.36329226e-01, -9.42228405e-02,\n",
              "        -4.45034657e-02,  1.39827834e-02, -1.07294652e-01,\n",
              "         4.43706000e-01, -9.35939172e-02,  2.02432059e-01,\n",
              "        -3.33589628e-01,  5.65117875e-02, -2.70588905e-02,\n",
              "         1.83585719e-01,  1.11878127e-01,  1.44604427e-01,\n",
              "        -1.26619070e-01,  7.87768393e-02, -9.09117703e-02,\n",
              "         6.11567327e-02,  6.47320009e-02, -9.71178664e-02,\n",
              "        -9.74046974e-02, -1.32412838e-01]])"
            ]
          },
          "metadata": {},
          "execution_count": 42
        }
      ]
    },
    {
      "cell_type": "code",
      "metadata": {
        "id": "QfZPv4f3-JKL"
      },
      "source": [
        "# predicting the values\n",
        "y_pred = logistic.predict(X_test_pca)"
      ],
      "id": "QfZPv4f3-JKL",
      "execution_count": 43,
      "outputs": []
    },
    {
      "cell_type": "code",
      "metadata": {
        "colab": {
          "base_uri": "https://localhost:8080/"
        },
        "id": "vRoJjuG_-UZM",
        "outputId": "925a90f4-85b5-444c-cffc-5dcf9ee6b3b4"
      },
      "source": [
        "accuracy_score(y_test, y_pred)"
      ],
      "id": "vRoJjuG_-UZM",
      "execution_count": 44,
      "outputs": [
        {
          "output_type": "execute_result",
          "data": {
            "text/plain": [
              "0.9155592169445227"
            ]
          },
          "metadata": {},
          "execution_count": 44
        }
      ]
    },
    {
      "cell_type": "code",
      "metadata": {
        "colab": {
          "base_uri": "https://localhost:8080/",
          "height": 374
        },
        "id": "bA1US0IL-UWe",
        "outputId": "96c8a9b3-5683-4e76-9cf7-b0a81183665c"
      },
      "source": [
        "plt.figure(figsize= (10, 6))\n",
        "sns.heatmap(confusion_matrix(y_test, y_pred), annot= True, cmap = 'coolwarm', fmt= '.5g');"
      ],
      "id": "bA1US0IL-UWe",
      "execution_count": 45,
      "outputs": [
        {
          "output_type": "display_data",
          "data": {
            "image/png": "[encoded data removed]",
            "text/plain": [
              "<Figure size 720x432 with 2 Axes>"
            ]
          },
          "metadata": {
            "needs_background": "light"
          }
        }
      ]
    },
    {
      "cell_type": "code",
      "metadata": {
        "id": "drZ5N-UH-ULl",
        "colab": {
          "base_uri": "https://localhost:8080/"
        },
        "outputId": "73ff4b7e-9a4b-48bd-86f1-8a3a98fe61c1"
      },
      "source": [
        "print(classification_report(y_test, y_pred))"
      ],
      "id": "drZ5N-UH-ULl",
      "execution_count": 46,
      "outputs": [
        {
          "output_type": "stream",
          "name": "stdout",
          "text": [
            "              precision    recall  f1-score   support\n",
            "\n",
            "           0       0.92      1.00      0.96     42403\n",
            "           1       0.06      0.00      0.01      3724\n",
            "\n",
            "    accuracy                           0.92     46127\n",
            "   macro avg       0.49      0.50      0.48     46127\n",
            "weighted avg       0.85      0.92      0.88     46127\n",
            "\n"
          ]
        }
      ]
    },
    {
      "cell_type": "markdown",
      "metadata": {
        "id": "P7e2OcoimPFj"
      },
      "source": [
        "# Neural Network"
      ],
      "id": "P7e2OcoimPFj"
    },
    {
      "cell_type": "code",
      "metadata": {
        "id": "AvlXRnl6mNdB"
      },
      "source": [
        "# importing necessary libraries\n",
        "import keras\n",
        "from keras import Sequential\n",
        "from keras.layers import Dense, Dropout"
      ],
      "id": "AvlXRnl6mNdB",
      "execution_count": 47,
      "outputs": []
    },
    {
      "cell_type": "code",
      "metadata": {
        "id": "4kHygMOfmZC8"
      },
      "source": [
        "# creating sequential layer instance\n",
        "ann = Sequential()"
      ],
      "id": "4kHygMOfmZC8",
      "execution_count": 48,
      "outputs": []
    },
    {
      "cell_type": "code",
      "metadata": {
        "id": "Up-Fu3S9miVL"
      },
      "source": [
        "# adding the first layer along with input dimensions\n",
        "ann.add(Dense(units= 256, activation= 'relu', kernel_initializer= 'he_uniform', input_dim = X_train_pca.shape[1]))"
      ],
      "id": "Up-Fu3S9miVL",
      "execution_count": 49,
      "outputs": []
    },
    {
      "cell_type": "code",
      "metadata": {
        "id": "a3ymikpUocTf"
      },
      "source": [
        "# adding second layer\n",
        "ann.add(Dense(units = 256, activation='relu', kernel_initializer='he_uniform'))"
      ],
      "id": "a3ymikpUocTf",
      "execution_count": 50,
      "outputs": []
    },
    {
      "cell_type": "code",
      "metadata": {
        "id": "D6kSBrM_op7l"
      },
      "source": [
        "# adding third layer\n",
        "ann.add(Dense(units=256, activation='relu', kernel_initializer= 'he_uniform'))\n",
        "\n",
        "# ann.add(Dropout(0.5))"
      ],
      "id": "D6kSBrM_op7l",
      "execution_count": 51,
      "outputs": []
    },
    {
      "cell_type": "code",
      "metadata": {
        "id": "D567Z96ar8J2"
      },
      "source": [
        "# # adding fourth layer\n",
        "# ann.add(Dense(units=512, activation='relu', kernel_initializer= 'he_uniform'))"
      ],
      "id": "D567Z96ar8J2",
      "execution_count": 52,
      "outputs": []
    },
    {
      "cell_type": "code",
      "metadata": {
        "id": "jeIUOEvysADz"
      },
      "source": [
        "# adding output layer\n",
        "ann.add(Dense(units=1, activation= 'sigmoid', kernel_initializer= 'glorot_normal'))"
      ],
      "id": "jeIUOEvysADz",
      "execution_count": 53,
      "outputs": []
    },
    {
      "cell_type": "code",
      "metadata": {
        "id": "8Z59aJXGsQZo"
      },
      "source": [
        "# compiling the model\n",
        "ann.compile(optimizer='adam', loss= 'binary_crossentropy', metrics=['accuracy'])"
      ],
      "id": "8Z59aJXGsQZo",
      "execution_count": 54,
      "outputs": []
    },
    {
      "cell_type": "code",
      "metadata": {
        "colab": {
          "base_uri": "https://localhost:8080/"
        },
        "id": "WvqYh4OZsdUs",
        "outputId": "69f4ca4e-cbc2-4ac1-fc07-a8243f87f2ed"
      },
      "source": [
        "# printing the summary of the model\n",
        "ann.summary()"
      ],
      "id": "WvqYh4OZsdUs",
      "execution_count": 55,
      "outputs": [
        {
          "output_type": "stream",
          "name": "stdout",
          "text": [
            "Model: \"sequential\"\n",
            "_________________________________________________________________\n",
            "Layer (type)                 Output Shape              Param #   \n",
            "=================================================================\n",
            "dense (Dense)                (None, 256)               51456     \n",
            "_________________________________________________________________\n",
            "dense_1 (Dense)              (None, 256)               65792     \n",
            "_________________________________________________________________\n",
            "dense_2 (Dense)              (None, 256)               65792     \n",
            "_________________________________________________________________\n",
            "dense_3 (Dense)              (None, 1)                 257       \n",
            "=================================================================\n",
            "Total params: 183,297\n",
            "Trainable params: 183,297\n",
            "Non-trainable params: 0\n",
            "_________________________________________________________________\n"
          ]
        }
      ]
    },
    {
      "cell_type": "code",
      "metadata": {
        "id": "VW6xtUaBsktY",
        "colab": {
          "base_uri": "https://localhost:8080/"
        },
        "outputId": "c1193b47-1e38-4b3f-9ae8-a14e57c621f8"
      },
      "source": [
        "ann.fit(X_train_pca, y_train, epochs = 20, validation_data=(X_val_pca, y_val))"
      ],
      "id": "VW6xtUaBsktY",
      "execution_count": 56,
      "outputs": [
        {
          "output_type": "stream",
          "name": "stdout",
          "text": [
            "Epoch 1/20\n",
            "6727/6727 [==============================] - 29s 4ms/step - loss: 0.2585 - accuracy: 0.9190 - val_loss: 0.3250 - val_accuracy: 0.9182\n",
            "Epoch 2/20\n",
            "6727/6727 [==============================] - 28s 4ms/step - loss: 0.2500 - accuracy: 0.9193 - val_loss: 0.3272 - val_accuracy: 0.9187\n",
            "Epoch 3/20\n",
            "6727/6727 [==============================] - 27s 4ms/step - loss: 0.2473 - accuracy: 0.9194 - val_loss: 0.3256 - val_accuracy: 0.9192\n",
            "Epoch 4/20\n",
            "6727/6727 [==============================] - 28s 4ms/step - loss: 0.2444 - accuracy: 0.9197 - val_loss: 0.3406 - val_accuracy: 0.9184\n",
            "Epoch 5/20\n",
            "6727/6727 [==============================] - 28s 4ms/step - loss: 0.2411 - accuracy: 0.9204 - val_loss: 0.3368 - val_accuracy: 0.9178\n",
            "Epoch 6/20\n",
            "6727/6727 [==============================] - 27s 4ms/step - loss: 0.2363 - accuracy: 0.9215 - val_loss: 0.3395 - val_accuracy: 0.9161\n",
            "Epoch 7/20\n",
            "6727/6727 [==============================] - 27s 4ms/step - loss: 0.2314 - accuracy: 0.9230 - val_loss: 0.3471 - val_accuracy: 0.9139\n",
            "Epoch 8/20\n",
            "6727/6727 [==============================] - 28s 4ms/step - loss: 0.2251 - accuracy: 0.9243 - val_loss: 0.3541 - val_accuracy: 0.9137\n",
            "Epoch 9/20\n",
            "6727/6727 [==============================] - 28s 4ms/step - loss: 0.2176 - accuracy: 0.9261 - val_loss: 0.3599 - val_accuracy: 0.9108\n",
            "Epoch 10/20\n",
            "6727/6727 [==============================] - 27s 4ms/step - loss: 0.2102 - accuracy: 0.9277 - val_loss: 0.3893 - val_accuracy: 0.9076\n",
            "Epoch 11/20\n",
            "6727/6727 [==============================] - 28s 4ms/step - loss: 0.2010 - accuracy: 0.9300 - val_loss: 0.4011 - val_accuracy: 0.9050\n",
            "Epoch 12/20\n",
            "6727/6727 [==============================] - 29s 4ms/step - loss: 0.1932 - accuracy: 0.9314 - val_loss: 0.4222 - val_accuracy: 0.9015\n",
            "Epoch 13/20\n",
            "6727/6727 [==============================] - 31s 5ms/step - loss: 0.1855 - accuracy: 0.9336 - val_loss: 0.4212 - val_accuracy: 0.9084\n",
            "Epoch 14/20\n",
            "6727/6727 [==============================] - 32s 5ms/step - loss: 0.1765 - accuracy: 0.9360 - val_loss: 0.4799 - val_accuracy: 0.9007\n",
            "Epoch 15/20\n",
            "6727/6727 [==============================] - 30s 4ms/step - loss: 0.1687 - accuracy: 0.9382 - val_loss: 0.4904 - val_accuracy: 0.9031\n",
            "Epoch 16/20\n",
            "6727/6727 [==============================] - 28s 4ms/step - loss: 0.1609 - accuracy: 0.9402 - val_loss: 0.5434 - val_accuracy: 0.8967\n",
            "Epoch 17/20\n",
            "6727/6727 [==============================] - 27s 4ms/step - loss: 0.1539 - accuracy: 0.9423 - val_loss: 0.5485 - val_accuracy: 0.8934\n",
            "Epoch 18/20\n",
            "6727/6727 [==============================] - 27s 4ms/step - loss: 0.1457 - accuracy: 0.9456 - val_loss: 0.5715 - val_accuracy: 0.8917\n",
            "Epoch 19/20\n",
            "6727/6727 [==============================] - 27s 4ms/step - loss: 0.1400 - accuracy: 0.9479 - val_loss: 0.5696 - val_accuracy: 0.8834\n",
            "Epoch 20/20\n",
            "6727/6727 [==============================] - 28s 4ms/step - loss: 0.1341 - accuracy: 0.9499 - val_loss: 0.6203 - val_accuracy: 0.8880\n"
          ]
        },
        {
          "output_type": "execute_result",
          "data": {
            "text/plain": [
              "<keras.callbacks.History at 0x7f4f5ad27cd0>"
            ]
          },
          "metadata": {},
          "execution_count": 56
        }
      ]
    },
    {
      "cell_type": "code",
      "metadata": {
        "id": "7JY5RNvysw0I"
      },
      "source": [
        "y_pred_ann = ann.predict(X_test_pca)"
      ],
      "id": "7JY5RNvysw0I",
      "execution_count": 57,
      "outputs": []
    },
    {
      "cell_type": "code",
      "metadata": {
        "id": "LIjC2zmxLBKp"
      },
      "source": [
        "yp = []\n",
        "for element in y_pred_ann:\n",
        "    if element > 0.5:\n",
        "        yp.append(1)\n",
        "    else:\n",
        "        yp.append(0)"
      ],
      "id": "LIjC2zmxLBKp",
      "execution_count": 58,
      "outputs": []
    },
    {
      "cell_type": "code",
      "metadata": {
        "id": "9GJl4lqhyn2G",
        "colab": {
          "base_uri": "https://localhost:8080/",
          "height": 283
        },
        "outputId": "f163fb34-69f0-4b34-fba0-5a483c6747f2"
      },
      "source": [
        "# printing confusion matrix\n",
        "sns.heatmap(confusion_matrix(y_test, yp), annot=True, cmap= 'coolwarm', fmt='.6g')"
      ],
      "id": "9GJl4lqhyn2G",
      "execution_count": 59,
      "outputs": [
        {
          "output_type": "execute_result",
          "data": {
            "text/plain": [
              "<matplotlib.axes._subplots.AxesSubplot at 0x7f4f57550890>"
            ]
          },
          "metadata": {},
          "execution_count": 59
        },
        {
          "output_type": "display_data",
          "data": {
            "image/png": "[encoded data removed]",
            "text/plain": [
              "<Figure size 432x288 with 2 Axes>"
            ]
          },
          "metadata": {
            "needs_background": "light"
          }
        }
      ]
    },
    {
      "cell_type": "code",
      "metadata": {
        "id": "eAQQOkOU5K75",
        "colab": {
          "base_uri": "https://localhost:8080/"
        },
        "outputId": "e7456f4c-5f0d-4a4a-9bf7-1c8c15ae0282"
      },
      "source": [
        "accuracy_score(y_test, yp)"
      ],
      "id": "eAQQOkOU5K75",
      "execution_count": 60,
      "outputs": [
        {
          "output_type": "execute_result",
          "data": {
            "text/plain": [
              "0.8864656275066664"
            ]
          },
          "metadata": {},
          "execution_count": 60
        }
      ]
    },
    {
      "cell_type": "code",
      "metadata": {
        "id": "QWZXcvrA90gR",
        "colab": {
          "base_uri": "https://localhost:8080/"
        },
        "outputId": "010f50c8-21a2-44d1-f33e-f464b8232717"
      },
      "source": [
        "print(f'The accuracy of logistic_model: {round(accuracy_score(y_test, y_pred), 4) * 100}%')\n",
        "print(f'The accuracy of ann_model: {round(accuracy_score(y_test, yp), 4) * 100}%')"
      ],
      "id": "QWZXcvrA90gR",
      "execution_count": 62,
      "outputs": [
        {
          "output_type": "stream",
          "name": "stdout",
          "text": [
            "The accuracy of logistic_model: 91.56%\n",
            "The accuracy of ann_model: 88.64999999999999%\n"
          ]
        }
      ]
    },
    {
      "cell_type": "markdown",
      "metadata": {
        "id": "bLwOxgCY_T3N"
      },
      "source": [
        "# Batch Normalization"
      ],
      "id": "bLwOxgCY_T3N"
    },
    {
      "cell_type": "code",
      "metadata": {
        "id": "D4rA387xByQV"
      },
      "source": [
        "del model"
      ],
      "id": "D4rA387xByQV",
      "execution_count": 91,
      "outputs": []
    },
    {
      "cell_type": "code",
      "metadata": {
        "id": "SOcr1-t9Lf0p"
      },
      "source": [
        "model = Sequential()"
      ],
      "id": "SOcr1-t9Lf0p",
      "execution_count": 92,
      "outputs": []
    },
    {
      "cell_type": "code",
      "metadata": {
        "id": "5gbMlV5W_iT_"
      },
      "source": [
        "# adding the first layer along with input dimensions\n",
        "model.add(Dense(units= 256, activation= 'relu', \n",
        "              kernel_initializer= 'he_uniform', input_dim = X_train_pca.shape[1]))\n",
        "\n",
        "# batch noemalization\n",
        "model.add(BatchNormalization())\n",
        "\n",
        "# dropout\n",
        "model.add(Dropout(0.5))"
      ],
      "id": "5gbMlV5W_iT_",
      "execution_count": 93,
      "outputs": []
    },
    {
      "cell_type": "code",
      "metadata": {
        "id": "zspoWtVc_4DM"
      },
      "source": [
        "# adding second layer\n",
        "model.add(Dense(units = 256, activation='relu', kernel_initializer='he_uniform'))\n",
        "\n",
        "# dropout\n",
        "model.add(Dropout(0.5))"
      ],
      "id": "zspoWtVc_4DM",
      "execution_count": 94,
      "outputs": []
    },
    {
      "cell_type": "code",
      "metadata": {
        "id": "RcrKaCPjB6Vx"
      },
      "source": [
        "# adding third layer\n",
        "model.add(Dense(units=256, activation='relu', kernel_initializer= 'he_uniform'))\n",
        "\n",
        "model.add(Dropout(0.5))"
      ],
      "id": "RcrKaCPjB6Vx",
      "execution_count": 95,
      "outputs": []
    },
    {
      "cell_type": "code",
      "metadata": {
        "id": "JAqpQwvrCTp8"
      },
      "source": [
        "# adding output layer\n",
        "model.add(Dense(units=1, activation= 'sigmoid', kernel_initializer= 'glorot_normal'))"
      ],
      "id": "JAqpQwvrCTp8",
      "execution_count": 96,
      "outputs": []
    },
    {
      "cell_type": "code",
      "metadata": {
        "id": "1QMZQ0FaCZCI"
      },
      "source": [
        "# compiling the model\n",
        "model.compile(optimizer='adam', loss='binary_crossentropy', metrics=['accuracy'])"
      ],
      "id": "1QMZQ0FaCZCI",
      "execution_count": 97,
      "outputs": []
    },
    {
      "cell_type": "code",
      "metadata": {
        "colab": {
          "base_uri": "https://localhost:8080/"
        },
        "id": "34q62VHoCr88",
        "outputId": "b8a9b3ea-9d08-491d-88e1-6820ba8bcaf9"
      },
      "source": [
        "model.summary()"
      ],
      "id": "34q62VHoCr88",
      "execution_count": 98,
      "outputs": [
        {
          "output_type": "stream",
          "name": "stdout",
          "text": [
            "Model: \"sequential_4\"\n",
            "_________________________________________________________________\n",
            "Layer (type)                 Output Shape              Param #   \n",
            "=================================================================\n",
            "dense_13 (Dense)             (None, 256)               51456     \n",
            "_________________________________________________________________\n",
            "batch_normalization_1 (Batch (None, 256)               1024      \n",
            "_________________________________________________________________\n",
            "dropout_3 (Dropout)          (None, 256)               0         \n",
            "_________________________________________________________________\n",
            "dense_14 (Dense)             (None, 256)               65792     \n",
            "_________________________________________________________________\n",
            "dropout_4 (Dropout)          (None, 256)               0         \n",
            "_________________________________________________________________\n",
            "dense_15 (Dense)             (None, 256)               65792     \n",
            "_________________________________________________________________\n",
            "dropout_5 (Dropout)          (None, 256)               0         \n",
            "_________________________________________________________________\n",
            "dense_16 (Dense)             (None, 1)                 257       \n",
            "=================================================================\n",
            "Total params: 184,321\n",
            "Trainable params: 183,809\n",
            "Non-trainable params: 512\n",
            "_________________________________________________________________\n"
          ]
        }
      ]
    },
    {
      "cell_type": "code",
      "metadata": {
        "colab": {
          "base_uri": "https://localhost:8080/"
        },
        "id": "yJYIL00oCq2T",
        "outputId": "b3260b9d-f3dd-4a2b-a5e0-ecf7343bb60b"
      },
      "source": [
        "model.fit(X_train_pca, y_train, epochs = 20, validation_data=(X_val_pca, y_val))"
      ],
      "id": "yJYIL00oCq2T",
      "execution_count": 99,
      "outputs": [
        {
          "output_type": "stream",
          "name": "stdout",
          "text": [
            "Epoch 1/20\n",
            "6727/6727 [==============================] - 33s 5ms/step - loss: 0.2806 - accuracy: 0.9174 - val_loss: 0.3144 - val_accuracy: 0.9193\n",
            "Epoch 2/20\n",
            "6727/6727 [==============================] - 32s 5ms/step - loss: 0.2624 - accuracy: 0.9191 - val_loss: 0.3179 - val_accuracy: 0.9193\n",
            "Epoch 3/20\n",
            "6727/6727 [==============================] - 32s 5ms/step - loss: 0.2598 - accuracy: 0.9188 - val_loss: 0.3097 - val_accuracy: 0.9193\n",
            "Epoch 4/20\n",
            "6727/6727 [==============================] - 31s 5ms/step - loss: 0.2592 - accuracy: 0.9188 - val_loss: 0.2994 - val_accuracy: 0.9193\n",
            "Epoch 5/20\n",
            "6727/6727 [==============================] - 31s 5ms/step - loss: 0.2582 - accuracy: 0.9189 - val_loss: 0.2982 - val_accuracy: 0.9193\n",
            "Epoch 6/20\n",
            "6727/6727 [==============================] - 31s 5ms/step - loss: 0.2577 - accuracy: 0.9187 - val_loss: 0.3005 - val_accuracy: 0.9193\n",
            "Epoch 7/20\n",
            "6727/6727 [==============================] - 32s 5ms/step - loss: 0.2573 - accuracy: 0.9186 - val_loss: 0.3139 - val_accuracy: 0.9193\n",
            "Epoch 8/20\n",
            "6727/6727 [==============================] - 32s 5ms/step - loss: 0.2566 - accuracy: 0.9186 - val_loss: 0.3049 - val_accuracy: 0.9193\n",
            "Epoch 9/20\n",
            "6727/6727 [==============================] - 34s 5ms/step - loss: 0.2558 - accuracy: 0.9187 - val_loss: 0.2955 - val_accuracy: 0.9193\n",
            "Epoch 10/20\n",
            "6727/6727 [==============================] - 34s 5ms/step - loss: 0.2558 - accuracy: 0.9188 - val_loss: 0.3069 - val_accuracy: 0.9193\n",
            "Epoch 11/20\n",
            "6727/6727 [==============================] - 35s 5ms/step - loss: 0.2553 - accuracy: 0.9187 - val_loss: 0.3042 - val_accuracy: 0.9193\n",
            "Epoch 12/20\n",
            "6727/6727 [==============================] - 35s 5ms/step - loss: 0.2554 - accuracy: 0.9187 - val_loss: 0.3211 - val_accuracy: 0.9193\n",
            "Epoch 13/20\n",
            "6727/6727 [==============================] - 35s 5ms/step - loss: 0.2554 - accuracy: 0.9185 - val_loss: 0.3101 - val_accuracy: 0.9193\n",
            "Epoch 14/20\n",
            "6727/6727 [==============================] - 35s 5ms/step - loss: 0.2548 - accuracy: 0.9187 - val_loss: 0.3032 - val_accuracy: 0.9193\n",
            "Epoch 15/20\n",
            "6727/6727 [==============================] - 34s 5ms/step - loss: 0.2542 - accuracy: 0.9187 - val_loss: 0.3082 - val_accuracy: 0.9193\n",
            "Epoch 16/20\n",
            "6727/6727 [==============================] - 33s 5ms/step - loss: 0.2542 - accuracy: 0.9187 - val_loss: 0.3048 - val_accuracy: 0.9190\n",
            "Epoch 17/20\n",
            "6727/6727 [==============================] - 34s 5ms/step - loss: 0.2546 - accuracy: 0.9186 - val_loss: 0.3128 - val_accuracy: 0.9193\n",
            "Epoch 18/20\n",
            "6727/6727 [==============================] - 33s 5ms/step - loss: 0.2545 - accuracy: 0.9188 - val_loss: 0.3045 - val_accuracy: 0.9193\n",
            "Epoch 19/20\n",
            "6727/6727 [==============================] - 33s 5ms/step - loss: 0.2543 - accuracy: 0.9186 - val_loss: 0.2967 - val_accuracy: 0.9193\n",
            "Epoch 20/20\n",
            "6727/6727 [==============================] - 33s 5ms/step - loss: 0.2545 - accuracy: 0.9187 - val_loss: 0.3069 - val_accuracy: 0.9189\n"
          ]
        },
        {
          "output_type": "execute_result",
          "data": {
            "text/plain": [
              "<keras.callbacks.History at 0x7f4f1749b4d0>"
            ]
          },
          "metadata": {},
          "execution_count": 99
        }
      ]
    },
    {
      "cell_type": "code",
      "metadata": {
        "id": "C0CrwpRPC2zl"
      },
      "source": [
        "y_pred_batchnorm = model.predict(X_test_pca)"
      ],
      "id": "C0CrwpRPC2zl",
      "execution_count": 100,
      "outputs": []
    },
    {
      "cell_type": "code",
      "metadata": {
        "colab": {
          "base_uri": "https://localhost:8080/"
        },
        "id": "i0RfsAjDJEGR",
        "outputId": "199d916e-c89d-4169-ad8b-7e3fb9251807"
      },
      "source": [
        "y_pred_batchnorm[:5]"
      ],
      "id": "i0RfsAjDJEGR",
      "execution_count": 101,
      "outputs": [
        {
          "output_type": "execute_result",
          "data": {
            "text/plain": [
              "array([[0.02603686],\n",
              "       [0.10157067],\n",
              "       [0.05416825],\n",
              "       [0.05570143],\n",
              "       [0.05308688]], dtype=float32)"
            ]
          },
          "metadata": {},
          "execution_count": 101
        }
      ]
    },
    {
      "cell_type": "code",
      "metadata": {
        "id": "IgZcZvLpFpc3"
      },
      "source": [
        "y_pred_norm = []\n",
        "\n",
        "for i in y_pred_batchnorm:\n",
        "  if i > 0.5:\n",
        "    y_pred_norm.append(1)\n",
        "  else:\n",
        "    y_pred_norm.append(0)"
      ],
      "id": "IgZcZvLpFpc3",
      "execution_count": 102,
      "outputs": []
    },
    {
      "cell_type": "code",
      "metadata": {
        "colab": {
          "base_uri": "https://localhost:8080/"
        },
        "id": "5vvPh_40JHzw",
        "outputId": "481b7d5a-f698-41af-8802-0ba8dad7b010"
      },
      "source": [
        "accuracy_score(y_test, y_pred_norm)"
      ],
      "id": "5vvPh_40JHzw",
      "execution_count": 104,
      "outputs": [
        {
          "output_type": "execute_result",
          "data": {
            "text/plain": [
              "0.9191796561666703"
            ]
          },
          "metadata": {},
          "execution_count": 104
        }
      ]
    },
    {
      "cell_type": "code",
      "metadata": {
        "colab": {
          "base_uri": "https://localhost:8080/"
        },
        "id": "85p8yK8rJZVV",
        "outputId": "594ab49b-15f0-4107-be92-a56327da6905"
      },
      "source": [
        "print(classification_report(y_test, y_pred_norm))"
      ],
      "id": "85p8yK8rJZVV",
      "execution_count": 105,
      "outputs": [
        {
          "output_type": "stream",
          "name": "stdout",
          "text": [
            "              precision    recall  f1-score   support\n",
            "\n",
            "           0       0.92      1.00      0.96     42403\n",
            "           1       0.00      0.00      0.00      3724\n",
            "\n",
            "    accuracy                           0.92     46127\n",
            "   macro avg       0.46      0.50      0.48     46127\n",
            "weighted avg       0.85      0.92      0.88     46127\n",
            "\n"
          ]
        }
      ]
    },
    {
      "cell_type": "code",
      "metadata": {
        "colab": {
          "base_uri": "https://localhost:8080/",
          "height": 283
        },
        "id": "MhKs1FE2Jb67",
        "outputId": "2fbfd54d-0a0a-43bb-e96a-5a49e19bb9e5"
      },
      "source": [
        "sns.heatmap(confusion_matrix(y_test, y_pred_norm), annot=True, cmap='coolwarm', fmt='.6g')"
      ],
      "id": "MhKs1FE2Jb67",
      "execution_count": 107,
      "outputs": [
        {
          "output_type": "execute_result",
          "data": {
            "text/plain": [
              "<matplotlib.axes._subplots.AxesSubplot at 0x7f4f52e78d90>"
            ]
          },
          "metadata": {},
          "execution_count": 107
        },
        {
          "output_type": "display_data",
          "data": {
            "image/png": "[encoded data removed]",
            "text/plain": [
              "<Figure size 432x288 with 2 Axes>"
            ]
          },
          "metadata": {
            "needs_background": "light"
          }
        }
      ]
    },
    {
      "cell_type": "code",
      "metadata": {
        "id": "H68o5xf0JdRA"
      },
      "source": [
        ""
      ],
      "id": "H68o5xf0JdRA",
      "execution_count": null,
      "outputs": []
    }
  ]
}